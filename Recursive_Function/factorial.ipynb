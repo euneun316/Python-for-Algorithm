{
 "cells": [
  {
   "cell_type": "markdown",
   "id": "474cb9f6-8baa-47e1-b660-0ff5cac1a3f7",
   "metadata": {},
   "source": [
    "# 팩토리얼\n",
    "---\n",
    "\n",
    "## 💡 문제 설명\n",
    "\n",
    "> 0보다 크거나 같은 정수 N이 주어진다. 이때, N!을 출력하는 프로그램을 작성하시오.\n",
    "\n",
    "## 💡 입력\n",
    "\n",
    "> 첫째 줄에 정수 N(0 ≤ N ≤ 12)이 주어진다.\n",
    "\n",
    "## 🔑 출력\n",
    "\n",
    "> 첫째 줄에 N!을 출력한다.\n",
    "\n",
    "### 예제 입력 #1\n",
    "```\n",
    "10\n",
    "```\n",
    "### 예제 출력 #1\n",
    "```\n",
    "3628800\n",
    "```\n",
    "\n",
    "### 예제 입력 #2\n",
    "```\n",
    "0\n",
    "```\n",
    "### 예제 출력 #2\n",
    "```\n",
    "1\n",
    "```\n",
    "\n",
    "## 🔗 문제 링크\n",
    "\n",
    "- [백준 - 팩토리얼](https://www.acmicpc.net/problem/10872)"
   ]
  },
  {
   "cell_type": "code",
   "execution_count": 4,
   "id": "ee3d47c5-5752-4b90-8dfe-ae9fe02559b9",
   "metadata": {},
   "outputs": [
    {
     "name": "stdin",
     "output_type": "stream",
     "text": [
      " 10\n"
     ]
    },
    {
     "name": "stdout",
     "output_type": "stream",
     "text": [
      "3628800\n"
     ]
    }
   ],
   "source": [
    "N = int(input())\n",
    " \n",
    "def factorial_recursive(N):        \n",
    "    if N <= 1:\n",
    "        return 1\n",
    "    return N * factorial_recursive(N - 1)\n",
    " \n",
    "print(factorial_recursive(N))"
   ]
  },
  {
   "cell_type": "code",
   "execution_count": null,
   "id": "5c7dab51-f090-4baf-8846-3dc86a18fb53",
   "metadata": {},
   "outputs": [],
   "source": []
  }
 ],
 "metadata": {
  "kernelspec": {
   "display_name": "imok",
   "language": "python",
   "name": "imok"
  },
  "language_info": {
   "codemirror_mode": {
    "name": "ipython",
    "version": 3
   },
   "file_extension": ".py",
   "mimetype": "text/x-python",
   "name": "python",
   "nbconvert_exporter": "python",
   "pygments_lexer": "ipython3",
   "version": "3.9.10"
  }
 },
 "nbformat": 4,
 "nbformat_minor": 5
}
