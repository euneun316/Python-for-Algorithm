{
 "cells": [
  {
   "cell_type": "markdown",
   "id": "474cb9f6-8baa-47e1-b660-0ff5cac1a3f7",
   "metadata": {
    "tags": []
   },
   "source": [
    "# 이진수 변환\n",
    "---\n",
    "\n",
    "## 💡 문제 설명\n",
    "\n",
    "> 자연수 N이 주어진다. N을 이진수로 바꿔서 출력하는 프로그램을 작성하시오.\n",
    "\n",
    "## 💡 입력\n",
    "\n",
    "> 첫째 줄에 자연수 N이 주어진다. (1 ≤ N ≤ 100,000,000,000,000)\n",
    "\n",
    "## 🔑 출력\n",
    "\n",
    "> N을 이진수로 바꿔서 출력한다. 이진수는 0으로 시작하면 안 된다.\n",
    "\n",
    "### 예제 입력 #1\n",
    "```\n",
    "53\n",
    "```\n",
    "### 예제 출력 #1\n",
    "```\n",
    "110101\n",
    "```\n",
    "\n",
    "## 🔗 문제 링크\n",
    "\n",
    "- [백준 - 이진수 변환](https://www.acmicpc.net/problem/10829)"
   ]
  },
  {
   "cell_type": "code",
   "execution_count": 10,
   "id": "d90116a1-3a53-4e6b-b774-3be12b8dde92",
   "metadata": {},
   "outputs": [
    {
     "name": "stdin",
     "output_type": "stream",
     "text": [
      " 10\n"
     ]
    },
    {
     "name": "stdout",
     "output_type": "stream",
     "text": [
      "1010"
     ]
    }
   ],
   "source": [
    "n = int(input())\n",
    "def convert_binary (x):\n",
    "    if x == 0:\n",
    "        return \n",
    "    # n을 나눈 몫이 0이 될 때까지 계속해서 2로 나누어주며 재귀 호출\n",
    "    else:\n",
    "        convert_binary(x//2) # 나누기 연산 후 소수점 이하의 수를 버리고, 정수 부분의 수만 구함\n",
    "        print(x%2, end='')\n",
    "\n",
    "convert_binary(n)"
   ]
  },
  {
   "cell_type": "code",
   "execution_count": null,
   "id": "3952f979-70ab-490d-899d-e39df592a5c8",
   "metadata": {},
   "outputs": [],
   "source": []
  }
 ],
 "metadata": {
  "kernelspec": {
   "display_name": "imok",
   "language": "python",
   "name": "imok"
  },
  "language_info": {
   "codemirror_mode": {
    "name": "ipython",
    "version": 3
   },
   "file_extension": ".py",
   "mimetype": "text/x-python",
   "name": "python",
   "nbconvert_exporter": "python",
   "pygments_lexer": "ipython3",
   "version": "3.9.10"
  }
 },
 "nbformat": 4,
 "nbformat_minor": 5
}
