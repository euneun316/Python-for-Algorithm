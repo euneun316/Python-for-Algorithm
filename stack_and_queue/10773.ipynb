{
 "cells": [
  {
   "cell_type": "markdown",
   "id": "22a17636-4cf8-4410-8d09-125f8dc6ef08",
   "metadata": {},
   "source": [
    "# 제로\n",
    "---\n",
    "\n",
    "## 🔗 문제 링크\n",
    "- [백준 - 제로](https://www.acmicpc.net/problem/10773)\n",
    "\n",
    "## 문제\n",
    "\n",
    "나코더 기장 재민이는 동아리 회식을 준비하기 위해서 장부를 관리하는 중이다.\n",
    "\n",
    "재현이는 재민이를 도와서 돈을 관리하는 중인데, 애석하게도 항상 정신없는 재현이는 돈을 실수로 잘못 부르는 사고를 치기 일쑤였다.\n",
    "\n",
    "재현이는 잘못된 수를 부를 때마다 0을 외쳐서, 가장 최근에 재민이가 쓴 수를 지우게 시킨다.\n",
    "\n",
    "재민이는 이렇게 모든 수를 받아 적은 후 그 수의 합을 알고 싶어 한다. 재민이를 도와주자!\n",
    "\n",
    "## 입력\n",
    "\n",
    "첫 번째 줄에 정수 K가 주어진다. (1 ≤ K ≤ 100,000)\n",
    "\n",
    "이후 K개의 줄에 정수가 1개씩 주어진다. 정수는 0에서 1,000,000 사이의 값을 가지며, 정수가 \"0\" 일 경우에는 가장 최근에 쓴 수를 지우고, 아닐 경우 해당 수를 쓴다.\n",
    "\n",
    "정수가 \"0\"일 경우에 지울 수 있는 수가 있음을 보장할 수 있다.\n",
    "\n",
    "## 출력\n",
    "\n",
    "재민이가 최종적으로 적어 낸 수의 합을 출력한다. 최종적으로 적어낸 수의 합은 231-1보다 작거나 같은 정수이다.\n",
    "\n",
    "## 예제 입력 1 복사\n",
    "\n",
    "```\n",
    "4\n",
    "3\n",
    "0\n",
    "4\n",
    "0\n",
    "```\n",
    "\n",
    "## 예제 출력 1 복사\n",
    "\n",
    "```\n",
    "0\n",
    "```\n",
    "\n",
    "## 예제 입력 2 복사\n",
    "\n",
    "```\n",
    "10\n",
    "1\n",
    "3\n",
    "5\n",
    "4\n",
    "0\n",
    "0\n",
    "7\n",
    "0\n",
    "0\n",
    "6\n",
    "```\n",
    "\n",
    "## 예제 출력 2 복사\n",
    "\n",
    "```\n",
    "7\n",
    "```\n",
    "\n",
    "## 힌트\n",
    "\n",
    "예제 2의 경우를 시뮬레이션 해보면,\n",
    "\n",
    "- [1]\n",
    "- [1,3]\n",
    "- [1,3,5]\n",
    "- [1,3,5,4]\n",
    "- [1,3,5] (0을 불렀기 때문에 최근의 수를 지운다)\n",
    "- [1,3] (0을 불렀기 때문에 그 다음 최근의 수를 지운다)\n",
    "- [1,3,7]\n",
    "- [1,3] (0을 불렀기 때문에 최근의 수를 지운다)\n",
    "- [1] (0을 불렀기 때문에 그 다음 최근의 수를 지운다)\n",
    "- [1,6]\n",
    "\n",
    "합은 7이다."
   ]
  },
  {
   "cell_type": "code",
   "execution_count": 3,
   "id": "05f06335-9209-4d4d-8b18-0aa2ef85b270",
   "metadata": {},
   "outputs": [
    {
     "name": "stdin",
     "output_type": "stream",
     "text": [
      " 10\n",
      " 1\n",
      " 3\n",
      " 5\n",
      " 4\n",
      " 0\n",
      " 0\n",
      " 7\n",
      " 0\n",
      " 0\n",
      " 6\n"
     ]
    },
    {
     "name": "stdout",
     "output_type": "stream",
     "text": [
      "7\n"
     ]
    }
   ],
   "source": [
    "k = int(input().strip())\n",
    "stack = []\n",
    "\n",
    "for i in range(k):\n",
    "    num = int(input().strip())\n",
    "    if(num == 0):\n",
    "        stack.pop()\n",
    "    else:\n",
    "        stack.append(num)\n",
    "print(sum(stack))"
   ]
  }
 ],
 "metadata": {
  "kernelspec": {
   "display_name": "imok",
   "language": "python",
   "name": "imok"
  },
  "language_info": {
   "codemirror_mode": {
    "name": "ipython",
    "version": 3
   },
   "file_extension": ".py",
   "mimetype": "text/x-python",
   "name": "python",
   "nbconvert_exporter": "python",
   "pygments_lexer": "ipython3",
   "version": "3.9.10"
  }
 },
 "nbformat": 4,
 "nbformat_minor": 5
}
