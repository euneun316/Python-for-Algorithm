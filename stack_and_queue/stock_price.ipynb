{
 "cells": [
  {
   "cell_type": "markdown",
   "id": "14a5848a-5d0e-48ce-8263-ff2ae23f1138",
   "metadata": {
    "tags": []
   },
   "source": [
    "# 주식가격\n",
    "\n",
    "---\n",
    "\n",
    "## 💡 문제 설명\n",
    "\n",
    "> 초 단위로 기록된 주식가격이 담긴 배열 prices가 매개변수로 주어질 때, 가격이 떨어지지 않은 기간은 몇 초인지를 return 하도록 solution 함수를 완성하세요.\n",
    "\n",
    "## 💡 제한 조건\n",
    "\n",
    ">- prices의 각 가격은 1 이상 10,000 이하인 자연수입니다.\n",
    ">- prices의 길이는 2 이상 100,000 이하입니다.\n",
    "\n",
    "## 🔑 입출력 예\n",
    "\n",
    "|     prices      |     return      |\n",
    "| :-------------: | :-------------: |\n",
    "| [1, 2, 3, 2, 3] | [4, 3, 1, 1, 0] |\n",
    "\n",
    "\n",
    "> **[ 입출력 예 설명 ]**\n",
    ">\n",
    "> - 1초 시점의 ₩1은 끝까지 가격이 떨어지지 않았습니다.\n",
    "> - 2초 시점의 ₩2은 끝까지 가격이 떨어지지 않았습니다.\n",
    "> - 3초 시점의 ₩3은 1초뒤에 가격이 떨어집니다. 따라서 1초간 가격이 떨어지지 않은 것으로 봅니다.\n",
    "> - 4초 시점의 ₩2은 1초간 가격이 떨어지지 않았습니다.\n",
    "> - 5초 시점의 ₩3은 0초간 가격이 떨어지지 않았습니다.\n",
    "\n",
    "---\n"
   ]
  },
  {
   "cell_type": "code",
   "execution_count": 1,
   "id": "87b89667-9412-41c1-951a-20b600c67685",
   "metadata": {},
   "outputs": [],
   "source": [
    "from collections import deque"
   ]
  },
  {
   "cell_type": "code",
   "execution_count": 14,
   "id": "459ecf51-8ebd-4826-b33f-b17bbc2bb24d",
   "metadata": {},
   "outputs": [],
   "source": [
    "prices = [1, 2, 3, 2, 3]"
   ]
  },
  {
   "cell_type": "code",
   "execution_count": 3,
   "id": "24c4c894-2746-46cf-9005-91b8461209ff",
   "metadata": {},
   "outputs": [],
   "source": [
    "def solution(prices):\n",
    "    queue = deque(prices)\n",
    "    answer = []\n",
    "    while queue:\n",
    "        price = queue.popleft() # 주식 첫번 째 값 꺼냄\n",
    "        sec = 0\n",
    "        for q in queue: # 주식 나머지 요소 돌면서\n",
    "            sec += 1 # 시간에 +1초 더함\n",
    "            if price > q: # 현재 주식 가격 보다 낮은 주식이면 종료\n",
    "                break\n",
    "        answer.append(sec)\n",
    "    return answer"
   ]
  },
  {
   "cell_type": "code",
   "execution_count": 4,
   "id": "245fcecd-8b7c-48d1-af59-b1c31caf3eaa",
   "metadata": {},
   "outputs": [
    {
     "name": "stdout",
     "output_type": "stream",
     "text": [
      "[4, 3, 1, 1, 0]\n"
     ]
    }
   ],
   "source": [
    "print(solution(prices))"
   ]
  },
  {
   "cell_type": "markdown",
   "id": "670d6b23-e72a-4c18-bcdc-bb16a2fc3fe9",
   "metadata": {},
   "source": [
    "# deque 큐\n",
    "- Collections 모듈의 deque 사용\n",
    "- 큐(queue)는 선입선출, FIFO(First In First Out) \n",
    "- 데이터를 추가한 순서대로 제거할 수 있다.\n",
    "- 스트리밍(streaming), 너비 우선 탐색(breath first search) 등 소프트웨어 개발에서 널리 응용\n",
    "- 왼쪽(처음)에서 입력 되고, 오른쪽(마지막)에서 출력됨\n",
    "\n",
    ">- pop() : 오른쪽에서 값 출력\n",
    ">- popleft() : 왼쪽에Queue\n",
    ">- appendleft() : 왼쪽에 값 입력\n",
    ">- append() : 오른쪽에 값 넣기\n",
    ">- extend() : 오른쪽으로 확장\n",
    ">- extendleft() : 왼쪽으로 확장"
   ]
  },
  {
   "cell_type": "markdown",
   "id": "12a5fc8f-3f3d-4cd1-8dbb-e1333660dd6f",
   "metadata": {},
   "source": [
    "### deque 실습 예제"
   ]
  },
  {
   "cell_type": "code",
   "execution_count": 5,
   "id": "0a9959a1-0fd9-41b6-b260-db16e5ce769e",
   "metadata": {},
   "outputs": [],
   "source": [
    "from collections import deque\n",
    "queue = deque([4, 5, 6])\n",
    "queue.append(7)\n",
    "queue.append(8)"
   ]
  },
  {
   "cell_type": "code",
   "execution_count": 6,
   "id": "148b3d85-d2d7-408c-8926-c579a1fc505c",
   "metadata": {},
   "outputs": [
    {
     "data": {
      "text/plain": [
       "deque([4, 5, 6, 7, 8])"
      ]
     },
     "execution_count": 6,
     "metadata": {},
     "output_type": "execute_result"
    }
   ],
   "source": [
    "queue"
   ]
  },
  {
   "cell_type": "code",
   "execution_count": 7,
   "id": "e4b6b986-e183-4e3b-a8bb-593c5c48586f",
   "metadata": {},
   "outputs": [
    {
     "data": {
      "text/plain": [
       "4"
      ]
     },
     "execution_count": 7,
     "metadata": {},
     "output_type": "execute_result"
    }
   ],
   "source": [
    "queue.popleft()"
   ]
  },
  {
   "cell_type": "code",
   "execution_count": 8,
   "id": "4cefd28e-a493-4f80-ad72-2deacb6c1c8f",
   "metadata": {},
   "outputs": [
    {
     "data": {
      "text/plain": [
       "deque([5, 6, 7, 8])"
      ]
     },
     "execution_count": 8,
     "metadata": {},
     "output_type": "execute_result"
    }
   ],
   "source": [
    "queue"
   ]
  },
  {
   "cell_type": "markdown",
   "id": "23d50915-acb1-4581-b777-ab9aac457670",
   "metadata": {
    "tags": []
   },
   "source": [
    "# Queue\n",
    "- queue 모듈의 Queue 클래스를 사용 \n",
    "- 멀티 쓰레딩(threading) 환경에서 사용\n",
    "- 내부적으로 라킹(locking)을 지원하여 여러 개의 쓰레드가 동시에 데이터를 추가하거나 삭제할 수 있다.\n",
    "- deque와 달리 방향성이 없기 때문에 데이터 추가와 삭제가 하나의 메서드로 처리된다.\n",
    "> queue 라이브러리에는 Queue(), LifoQueue(), PriorityQueue() 를 제공한다.\n",
    ">- Queue() : 일반적인 큐 자료구조\n",
    ">- LifoQueue() : 나중에 입력된 데이터가 먼저 출력되는 구조 (like stack)\n",
    ">- PriorityQueue() : 우선순위 큐 -> 데이터마다 우선순위를 넣어서, 우선수위가 높은 순으로 데이터 출력\n",
    "- 데이터가 추가 : put() 메서드\n",
    "- 데이터를 삭제 : get() 메서드"
   ]
  },
  {
   "cell_type": "markdown",
   "id": "9cd36d59-e7ed-4750-bc03-9e26689a1c7f",
   "metadata": {},
   "source": [
    "### queue 실습 예제"
   ]
  },
  {
   "cell_type": "code",
   "execution_count": 9,
   "id": "3d9a2690-7159-4907-8e86-c9a250f5638d",
   "metadata": {},
   "outputs": [],
   "source": [
    "from queue import Queue\n",
    "\n",
    "data_queue = Queue()\n",
    "data_queue.put(\"abc\")"
   ]
  },
  {
   "cell_type": "code",
   "execution_count": 10,
   "id": "653b24b1-0ae7-4b52-ab40-191576acc9cd",
   "metadata": {},
   "outputs": [],
   "source": [
    "data_queue.put(1)"
   ]
  },
  {
   "cell_type": "code",
   "execution_count": 11,
   "id": "83562ef6-d75f-46d3-9b0c-b226dd4e7827",
   "metadata": {},
   "outputs": [
    {
     "name": "stdout",
     "output_type": "stream",
     "text": [
      "2\n"
     ]
    },
    {
     "data": {
      "text/plain": [
       "'abc'"
      ]
     },
     "execution_count": 11,
     "metadata": {},
     "output_type": "execute_result"
    }
   ],
   "source": [
    "print(data_queue.qsize()) # 2\n",
    "data_queue.get() # abc -> 제일 먼저 인서트된 데이터 출력"
   ]
  },
  {
   "cell_type": "code",
   "execution_count": 12,
   "id": "e03eac25-ef4e-4032-bf81-3e4a8b5c762f",
   "metadata": {},
   "outputs": [
    {
     "name": "stdout",
     "output_type": "stream",
     "text": [
      "1\n"
     ]
    }
   ],
   "source": [
    "print(data_queue.qsize()) # 1 -> 9번줄에서 abc가 빠져나갔기 때문"
   ]
  },
  {
   "cell_type": "code",
   "execution_count": 13,
   "id": "b222da8e-0f11-4a7f-9c62-4c72ee3e7f47",
   "metadata": {},
   "outputs": [
    {
     "data": {
      "text/plain": [
       "1"
      ]
     },
     "execution_count": 13,
     "metadata": {},
     "output_type": "execute_result"
    }
   ],
   "source": [
    "data_queue.get() # 1 출력"
   ]
  },
  {
   "cell_type": "code",
   "execution_count": 5,
   "id": "557da28f-2650-4166-aae2-0736f9032e31",
   "metadata": {
    "collapsed": true,
    "jupyter": {
     "outputs_hidden": true
    },
    "tags": []
   },
   "outputs": [
    {
     "name": "stdout",
     "output_type": "stream",
     "text": [
      "Help on class deque in module collections:\n",
      "\n",
      "class deque(builtins.object)\n",
      " |  deque([iterable[, maxlen]]) --> deque object\n",
      " |  \n",
      " |  A list-like sequence optimized for data accesses near its endpoints.\n",
      " |  \n",
      " |  Methods defined here:\n",
      " |  \n",
      " |  __add__(self, value, /)\n",
      " |      Return self+value.\n",
      " |  \n",
      " |  __bool__(self, /)\n",
      " |      self != 0\n",
      " |  \n",
      " |  __contains__(self, key, /)\n",
      " |      Return key in self.\n",
      " |  \n",
      " |  __copy__(...)\n",
      " |      Return a shallow copy of a deque.\n",
      " |  \n",
      " |  __delitem__(self, key, /)\n",
      " |      Delete self[key].\n",
      " |  \n",
      " |  __eq__(self, value, /)\n",
      " |      Return self==value.\n",
      " |  \n",
      " |  __ge__(self, value, /)\n",
      " |      Return self>=value.\n",
      " |  \n",
      " |  __getattribute__(self, name, /)\n",
      " |      Return getattr(self, name).\n",
      " |  \n",
      " |  __getitem__(self, key, /)\n",
      " |      Return self[key].\n",
      " |  \n",
      " |  __gt__(self, value, /)\n",
      " |      Return self>value.\n",
      " |  \n",
      " |  __iadd__(self, value, /)\n",
      " |      Implement self+=value.\n",
      " |  \n",
      " |  __imul__(self, value, /)\n",
      " |      Implement self*=value.\n",
      " |  \n",
      " |  __init__(self, /, *args, **kwargs)\n",
      " |      Initialize self.  See help(type(self)) for accurate signature.\n",
      " |  \n",
      " |  __iter__(self, /)\n",
      " |      Implement iter(self).\n",
      " |  \n",
      " |  __le__(self, value, /)\n",
      " |      Return self<=value.\n",
      " |  \n",
      " |  __len__(self, /)\n",
      " |      Return len(self).\n",
      " |  \n",
      " |  __lt__(self, value, /)\n",
      " |      Return self<value.\n",
      " |  \n",
      " |  __mul__(self, value, /)\n",
      " |      Return self*value.\n",
      " |  \n",
      " |  __ne__(self, value, /)\n",
      " |      Return self!=value.\n",
      " |  \n",
      " |  __reduce__(...)\n",
      " |      Return state information for pickling.\n",
      " |  \n",
      " |  __repr__(self, /)\n",
      " |      Return repr(self).\n",
      " |  \n",
      " |  __reversed__(...)\n",
      " |      D.__reversed__() -- return a reverse iterator over the deque\n",
      " |  \n",
      " |  __rmul__(self, value, /)\n",
      " |      Return value*self.\n",
      " |  \n",
      " |  __setitem__(self, key, value, /)\n",
      " |      Set self[key] to value.\n",
      " |  \n",
      " |  __sizeof__(...)\n",
      " |      D.__sizeof__() -- size of D in memory, in bytes\n",
      " |  \n",
      " |  append(...)\n",
      " |      Add an element to the right side of the deque.\n",
      " |  \n",
      " |  appendleft(...)\n",
      " |      Add an element to the left side of the deque.\n",
      " |  \n",
      " |  clear(...)\n",
      " |      Remove all elements from the deque.\n",
      " |  \n",
      " |  copy(...)\n",
      " |      Return a shallow copy of a deque.\n",
      " |  \n",
      " |  count(...)\n",
      " |      D.count(value) -> integer -- return number of occurrences of value\n",
      " |  \n",
      " |  extend(...)\n",
      " |      Extend the right side of the deque with elements from the iterable\n",
      " |  \n",
      " |  extendleft(...)\n",
      " |      Extend the left side of the deque with elements from the iterable\n",
      " |  \n",
      " |  index(...)\n",
      " |      D.index(value, [start, [stop]]) -> integer -- return first index of value.\n",
      " |      Raises ValueError if the value is not present.\n",
      " |  \n",
      " |  insert(...)\n",
      " |      D.insert(index, object) -- insert object before index\n",
      " |  \n",
      " |  pop(...)\n",
      " |      Remove and return the rightmost element.\n",
      " |  \n",
      " |  popleft(...)\n",
      " |      Remove and return the leftmost element.\n",
      " |  \n",
      " |  remove(...)\n",
      " |      D.remove(value) -- remove first occurrence of value.\n",
      " |  \n",
      " |  reverse(...)\n",
      " |      D.reverse() -- reverse *IN PLACE*\n",
      " |  \n",
      " |  rotate(...)\n",
      " |      Rotate the deque n steps to the right (default n=1).  If n is negative, rotates left.\n",
      " |  \n",
      " |  ----------------------------------------------------------------------\n",
      " |  Class methods defined here:\n",
      " |  \n",
      " |  __class_getitem__(...) from builtins.type\n",
      " |      See PEP 585\n",
      " |  \n",
      " |  ----------------------------------------------------------------------\n",
      " |  Static methods defined here:\n",
      " |  \n",
      " |  __new__(*args, **kwargs) from builtins.type\n",
      " |      Create and return a new object.  See help(type) for accurate signature.\n",
      " |  \n",
      " |  ----------------------------------------------------------------------\n",
      " |  Data descriptors defined here:\n",
      " |  \n",
      " |  maxlen\n",
      " |      maximum size of a deque or None if unbounded\n",
      " |  \n",
      " |  ----------------------------------------------------------------------\n",
      " |  Data and other attributes defined here:\n",
      " |  \n",
      " |  __hash__ = None\n",
      "\n"
     ]
    }
   ],
   "source": [
    "help(deque)"
   ]
  },
  {
   "cell_type": "code",
   "execution_count": 13,
   "id": "f409a8b8-7ea3-4a9d-8a8b-7dd407bba4aa",
   "metadata": {
    "collapsed": true,
    "jupyter": {
     "outputs_hidden": true
    },
    "tags": []
   },
   "outputs": [
    {
     "data": {
      "text/plain": [
       "['__add__',\n",
       " '__bool__',\n",
       " '__class__',\n",
       " '__class_getitem__',\n",
       " '__contains__',\n",
       " '__copy__',\n",
       " '__delattr__',\n",
       " '__delitem__',\n",
       " '__dir__',\n",
       " '__doc__',\n",
       " '__eq__',\n",
       " '__format__',\n",
       " '__ge__',\n",
       " '__getattribute__',\n",
       " '__getitem__',\n",
       " '__gt__',\n",
       " '__hash__',\n",
       " '__iadd__',\n",
       " '__imul__',\n",
       " '__init__',\n",
       " '__init_subclass__',\n",
       " '__iter__',\n",
       " '__le__',\n",
       " '__len__',\n",
       " '__lt__',\n",
       " '__mul__',\n",
       " '__ne__',\n",
       " '__new__',\n",
       " '__reduce__',\n",
       " '__reduce_ex__',\n",
       " '__repr__',\n",
       " '__reversed__',\n",
       " '__rmul__',\n",
       " '__setattr__',\n",
       " '__setitem__',\n",
       " '__sizeof__',\n",
       " '__str__',\n",
       " '__subclasshook__',\n",
       " 'append',\n",
       " 'appendleft',\n",
       " 'clear',\n",
       " 'copy',\n",
       " 'count',\n",
       " 'extend',\n",
       " 'extendleft',\n",
       " 'index',\n",
       " 'insert',\n",
       " 'maxlen',\n",
       " 'pop',\n",
       " 'popleft',\n",
       " 'remove',\n",
       " 'reverse',\n",
       " 'rotate']"
      ]
     },
     "execution_count": 13,
     "metadata": {},
     "output_type": "execute_result"
    }
   ],
   "source": [
    "dir(deque)"
   ]
  }
 ],
 "metadata": {
  "kernelspec": {
   "display_name": "imok",
   "language": "python",
   "name": "imok"
  },
  "language_info": {
   "codemirror_mode": {
    "name": "ipython",
    "version": 3
   },
   "file_extension": ".py",
   "mimetype": "text/x-python",
   "name": "python",
   "nbconvert_exporter": "python",
   "pygments_lexer": "ipython3",
   "version": "3.9.10"
  }
 },
 "nbformat": 4,
 "nbformat_minor": 5
}
