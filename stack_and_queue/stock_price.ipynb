{
 "cells": [
  {
   "cell_type": "markdown",
   "id": "14a5848a-5d0e-48ce-8263-ff2ae23f1138",
   "metadata": {
    "tags": []
   },
   "source": [
    "# 주식가격\n",
    "\n",
    "---\n",
    "\n",
    "## 💡 문제 설명\n",
    "\n",
    "> 초 단위로 기록된 주식가격이 담긴 배열 prices가 매개변수로 주어질 때, 가격이 떨어지지 않은 기간은 몇 초인지를 return 하도록 solution 함수를 완성하세요.\n",
    "\n",
    "## 💡 제한 조건\n",
    "\n",
    ">- prices의 각 가격은 1 이상 10,000 이하인 자연수입니다.\n",
    ">- prices의 길이는 2 이상 100,000 이하입니다.\n",
    "\n",
    "## 🔑 입출력 예\n",
    "\n",
    "|     prices      |     return      |\n",
    "| :-------------: | :-------------: |\n",
    "| [1, 2, 3, 2, 3] | [4, 3, 1, 1, 0] |\n",
    "\n",
    "\n",
    "> **[ 입출력 예 설명 ]**\n",
    ">\n",
    "> - 1초 시점의 ₩1은 끝까지 가격이 떨어지지 않았습니다.\n",
    "> - 2초 시점의 ₩2은 끝까지 가격이 떨어지지 않았습니다.\n",
    "> - 3초 시점의 ₩3은 1초뒤에 가격이 떨어집니다. 따라서 1초간 가격이 떨어지지 않은 것으로 봅니다.\n",
    "> - 4초 시점의 ₩2은 1초간 가격이 떨어지지 않았습니다.\n",
    "> - 5초 시점의 ₩3은 0초간 가격이 떨어지지 않았습니다.\n",
    "\n",
    "---\n"
   ]
  },
  {
   "cell_type": "code",
   "execution_count": 1,
   "id": "87b89667-9412-41c1-951a-20b600c67685",
   "metadata": {},
   "outputs": [],
   "source": [
    "from collections import deque"
   ]
  },
  {
   "cell_type": "code",
   "execution_count": 5,
   "id": "459ecf51-8ebd-4826-b33f-b17bbc2bb24d",
   "metadata": {},
   "outputs": [],
   "source": [
    "prices = [1, 2, 3, 2, 3]"
   ]
  },
  {
   "cell_type": "code",
   "execution_count": 6,
   "id": "24c4c894-2746-46cf-9005-91b8461209ff",
   "metadata": {},
   "outputs": [],
   "source": [
    "def solution(prices):\n",
    "    queue = deque(prices)\n",
    "    answer = []\n",
    "    while queue:\n",
    "        price = queue.popleft() # 주식 첫번 째 값 꺼냄\n",
    "        sec = 0\n",
    "        for q in queue: # 주식 나머지 요소 돌면서\n",
    "            sec += 1 # 시간에 +1초 더함\n",
    "            if price > q: # 현재 주식 가격 보다 낮은 주식이면 종료\n",
    "                break\n",
    "        answer.append(sec)\n",
    "    return answer"
   ]
  },
  {
   "cell_type": "code",
   "execution_count": 7,
   "id": "245fcecd-8b7c-48d1-af59-b1c31caf3eaa",
   "metadata": {},
   "outputs": [
    {
     "name": "stdout",
     "output_type": "stream",
     "text": [
      "[4, 3, 1, 1, 0]\n"
     ]
    }
   ],
   "source": [
    "print(solution(prices))"
   ]
  },
  {
   "cell_type": "markdown",
   "id": "670d6b23-e72a-4c18-bcdc-bb16a2fc3fe9",
   "metadata": {},
   "source": [
    "#### deque 큐\n",
    "- 왼쪽(처음)에서 입력 되고, 오른쪽(마지막)에서 출력됨\n",
    ">- pop() : 오른쪽에서 값 출력\n",
    ">- popleft() : 왼쪽에서 값 빼기\n",
    ">- appendleft() : 왼쪽에 값 입력\n",
    ">- apppend() : 오른쪽에 값 넣기\n",
    ">- extend() : 오른쪽으로 확장\n",
    ">- extendleft() : 왼쪽으로 확장"
   ]
  },
  {
   "cell_type": "code",
   "execution_count": null,
   "id": "29a02a00-926e-4388-b8a5-d43fed891f50",
   "metadata": {},
   "outputs": [],
   "source": []
  }
 ],
 "metadata": {
  "kernelspec": {
   "display_name": "imok",
   "language": "python",
   "name": "imok"
  },
  "language_info": {
   "codemirror_mode": {
    "name": "ipython",
    "version": 3
   },
   "file_extension": ".py",
   "mimetype": "text/x-python",
   "name": "python",
   "nbconvert_exporter": "python",
   "pygments_lexer": "ipython3",
   "version": "3.9.10"
  }
 },
 "nbformat": 4,
 "nbformat_minor": 5
}
