{
 "cells": [
  {
   "cell_type": "markdown",
   "id": "3e3b33bd-59e3-4c8d-ac84-485e0cee0883",
   "metadata": {},
   "source": [
    "# 카드2\n",
    "\n",
    "## 🔗 문제 링크\n",
    "- [백준 - 카드2](https://www.acmicpc.net/problem/2164)\n",
    "\n",
    "## 문제\n",
    "\n",
    "N장의 카드가 있다. 각각의 카드는 차례로 1부터 N까지의 번호가 붙어 있으며, 1번 카드가 제일 위에, N번 카드가 제일 아래인 상태로 순서대로 카드가 놓여 있다.\n",
    "\n",
    "이제 다음과 같은 동작을 카드가 한 장 남을 때까지 반복하게 된다. 우선, 제일 위에 있는 카드를 바닥에 버린다. 그 다음, 제일 위에 있는 카드를 제일 아래에 있는 카드 밑으로 옮긴다.\n",
    "\n",
    "예를 들어 N=4인 경우를 생각해 보자. 카드는 제일 위에서부터 1234 의 순서로 놓여있다. 1을 버리면 234가 남는다. 여기서 2를 제일 아래로 옮기면 342가 된다. 3을 버리면 42가 되고, 4를 밑으로 옮기면 24가 된다. 마지막으로 2를 버리고 나면, 남는 카드는 4가 된다.\n",
    "\n",
    "N이 주어졌을 때, 제일 마지막에 남게 되는 카드를 구하는 프로그램을 작성하시오.\n",
    "\n",
    "## 입력\n",
    "\n",
    "첫째 줄에 정수 N(1 ≤ N ≤ 500,000)이 주어진다.\n",
    "\n",
    "## 출력\n",
    "\n",
    "첫째 줄에 남게 되는 카드의 번호를 출력한다.\n",
    "\n",
    "## 예제 입력 1 복사\n",
    "\n",
    "```\n",
    "6\n",
    "```\n",
    "\n",
    "## 예제 출력 1 복사\n",
    "\n",
    "```\n",
    "4\n",
    "```"
   ]
  },
  {
   "cell_type": "code",
   "execution_count": 14,
   "id": "df9582d7-e2e2-4fd4-9168-0f689676bdd0",
   "metadata": {},
   "outputs": [
    {
     "name": "stdin",
     "output_type": "stream",
     "text": [
      " 10\n"
     ]
    },
    {
     "name": "stdout",
     "output_type": "stream",
     "text": [
      "4\n"
     ]
    }
   ],
   "source": [
    "import sys\n",
    "from collections import deque\n",
    "\n",
    "n = int(input().strip())\n",
    "que = deque()\n",
    "\n",
    "for i in range(n):\n",
    "    que.append(i+1)\n",
    "    \n",
    "while len(que) > 1 :\n",
    "    que.popleft()\n",
    "    que.append(que.popleft())\n",
    "    \n",
    "print(que.pop())"
   ]
  },
  {
   "cell_type": "code",
   "execution_count": 12,
   "id": "b0109606-f69e-4c16-a812-6349fb35b350",
   "metadata": {},
   "outputs": [
    {
     "data": {
      "text/plain": [
       "deque([4])"
      ]
     },
     "execution_count": 12,
     "metadata": {},
     "output_type": "execute_result"
    }
   ],
   "source": [
    "que"
   ]
  },
  {
   "cell_type": "code",
   "execution_count": null,
   "id": "a4955f27-fa35-4d30-a5fc-10dd7ba66e9f",
   "metadata": {},
   "outputs": [],
   "source": []
  }
 ],
 "metadata": {
  "kernelspec": {
   "display_name": "imok",
   "language": "python",
   "name": "imok"
  },
  "language_info": {
   "codemirror_mode": {
    "name": "ipython",
    "version": 3
   },
   "file_extension": ".py",
   "mimetype": "text/x-python",
   "name": "python",
   "nbconvert_exporter": "python",
   "pygments_lexer": "ipython3",
   "version": "3.9.10"
  }
 },
 "nbformat": 4,
 "nbformat_minor": 5
}
