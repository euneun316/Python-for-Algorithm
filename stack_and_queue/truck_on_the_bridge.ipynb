{
 "cells": [
  {
   "cell_type": "markdown",
   "id": "dfc41657-8f6a-45ce-bd4f-1f3b18c22993",
   "metadata": {
    "tags": []
   },
   "source": [
    "# 다리를 지나는 트럭\n",
    "\n",
    "---\n",
    "\n",
    "## 🔗 문제 링크\n",
    "- [프로그래머스 - 다리를 지나는 트럭](https://programmers.co.kr/learn/courses/30/lessons/42583?language=python3)\n",
    "\n",
    "\n",
    "## 💡 문제 설명\n",
    "\n",
    "트럭 여러 대가 강을 가로지르는 일차선 다리를 정해진 순으로 건너려 합니다. 모든 트럭이 다리를 건너려면 최소 몇 초가 걸리는지 알아내야 합니다. 다리에는 트럭이 최대 bridge_length대 올라갈 수 있으며, 다리는 weight 이하까지의 무게를 견딜 수 있습니다. 단, 다리에 완전히 오르지 않은 트럭의 무게는 무시합니다.\n",
    "\n",
    "예를 들어, 트럭 2대가 올라갈 수 있고 무게를 10kg까지 견디는 다리가 있습니다. 무게가 [7, 4, 5, 6]kg인 트럭이 순서대로 최단 시간 안에 다리를 건너려면 다음과 같이 건너야 합니다.\n",
    "\n",
    "| 경과 시간 | 다리를 지난 트럭 | 다리를 건너는 트럭 | 대기 트럭 |\n",
    "| --------- | ---------------- | ------------------ | --------- |\n",
    "| 0         | []               | []                 | [7,4,5,6] |\n",
    "| 1~2       | []               | [7]                | [4,5,6]   |\n",
    "| 3         | [7]              | [4]                | [5,6]     |\n",
    "| 4         | [7]              | [4,5]              | [6]       |\n",
    "| 5         | [7,4]            | [5]                | [6]       |\n",
    "| 6~7       | [7,4,5]          | [6]                | []        |\n",
    "| 8         | [7,4,5,6]        | []                 | []        |\n",
    "\n",
    "<br><br><br><br><br><br><br><br><br><br>\n",
    "따라서, 모든 트럭이 다리를 지나려면 최소 8초가 걸립니다.\n",
    "\n",
    "solution 함수의 매개변수로 다리에 올라갈 수 있는 트럭 수 bridge_length, 다리가 견딜 수 있는 무게 weight, 트럭 별 무게 truck_weights가 주어집니다. 이때 모든 트럭이 다리를 건너려면 최소 몇 초가 걸리는지 return 하도록 solution 함수를 완성하세요.\n",
    "\n",
    "## 💡 제한 조건\n",
    "\n",
    "- bridge_length는 1 이상 10,000 이하입니다.\n",
    "- weight는 1 이상 10,000 이하입니다.\n",
    "- truck_weights의 길이는 1 이상 10,000 이하입니다.\n",
    "- 모든 트럭의 무게는 1 이상 weight 이하입니다.\n",
    "\n",
    "## 🔑 입출력 예\n",
    "\n",
    "| bridge_length | weight | truck_weights                   | return |\n",
    "| ------------- | ------ | ------------------------------- | ------ |\n",
    "| 2             | 10     | [7,4,5,6]                       | 8      |\n",
    "| 100           | 100    | [10]                            | 101    |\n",
    "| 100           | 100    | [10,10,10,10,10,10,10,10,10,10] |        |\n"
   ]
  },
  {
   "cell_type": "markdown",
   "id": "86b5007d-6efb-42b0-8229-5bcbf98fab6a",
   "metadata": {},
   "source": [
    "---"
   ]
  },
  {
   "cell_type": "code",
   "execution_count": 89,
   "id": "d164a1ac-9a64-4f6f-8861-b26e4e695d02",
   "metadata": {},
   "outputs": [],
   "source": [
    "from collections import deque\n",
    "\n",
    "def solution(bridge_length, weight, truck_weights):\n",
    "    time = 0\n",
    "    bridge = deque([0 for _ in range(bridge_length)]) # 다리 길이만큼 0으로 채움 \n",
    "    wating = deque(truck_weights)\n",
    "    bridge_weight = sum(bridge)\n",
    "    \n",
    "    while bridge:\n",
    "        bridge_weight -= bridge[0]\n",
    "        bridge.popleft() # 다리에서 하나 제거\n",
    "        time += 1\n",
    "        if wating:\n",
    "            if bridge_weight + wating[0] <= weight: # 새 트럭이 다리에 올라감 < 견딜 수 있는 무게\n",
    "                bridge_weight += wating[0]\n",
    "                bridge.append(wating.popleft()) # 다리에 올라간 트럭\n",
    "            else:\n",
    "                bridge.append(0) # 견딜 수 있는 무게보다 초과 됐을 때 0 채워 줌\n",
    "        \n",
    "    return time"
   ]
  },
  {
   "cell_type": "code",
   "execution_count": 90,
   "id": "07e94bfb-fc6e-4122-a6e0-eb78c555bdf3",
   "metadata": {},
   "outputs": [],
   "source": [
    "bridge_length = 2\n",
    "weight = 10\n",
    "truck_weights = [7,4,5,6]"
   ]
  },
  {
   "cell_type": "code",
   "execution_count": 91,
   "id": "8d5a4f2f-4d4e-4246-a90a-f077b75b6d2f",
   "metadata": {},
   "outputs": [
    {
     "data": {
      "text/plain": [
       "8"
      ]
     },
     "execution_count": 91,
     "metadata": {},
     "output_type": "execute_result"
    }
   ],
   "source": [
    "solution(bridge_length, weight, truck_weights)"
   ]
  },
  {
   "cell_type": "markdown",
   "id": "b4fff5d2-8810-4908-a208-8f92ed139a96",
   "metadata": {},
   "source": [
    "```\n",
    "테스트 1 〉\t통과 (0.91ms, 10.2MB)\n",
    "테스트 2 〉\t통과 (12.92ms, 10.5MB)\n",
    "테스트 3 〉\t통과 (0.02ms, 10.1MB)\n",
    "테스트 4 〉\t통과 (11.80ms, 10.2MB)\n",
    "테스트 5 〉\t통과 (69.26ms, 10.2MB)\n",
    "테스트 6 〉\t통과 (31.83ms, 10.4MB)\n",
    "테스트 7 〉\t통과 (0.38ms, 10.1MB)\n",
    "테스트 8 〉\t통과 (0.10ms, 10.2MB)\n",
    "테스트 9 〉\t통과 (2.16ms, 10.1MB)\n",
    "테스트 10 〉\t통과 (0.10ms, 10.1MB)\n",
    "테스트 11 〉\t통과 (0.01ms, 10.2MB)\n",
    "테스트 12 〉\t통과 (0.17ms, 10.3MB)\n",
    "테스트 13 〉\t통과 (0.62ms, 10.1MB)\n",
    "테스트 14 〉\t통과 (0.03ms, 10.1MB)\n",
    "```"
   ]
  },
  {
   "cell_type": "code",
   "execution_count": 42,
   "id": "c332bbb1-537d-4244-9b36-22ed61d53581",
   "metadata": {},
   "outputs": [],
   "source": [
    "def solution(bridge_length, weight, truck_weights):\n",
    "    time = 0\n",
    "    bridge = [0] * bridge_length # 다리 길이만큼 0으로 채움\n",
    "    while bridge:\n",
    "        time += 1\n",
    "        bridge.pop(0) # 다리에서 하나 제거\n",
    "        if truck_weights:\n",
    "            if sum(bridge) + truck_weights[0] <= weight: # 새 트럭이 다리에 올라감 < 견딜 수 있는 무게\n",
    "                bridge.append(truck_weights.pop(0)) # 다리에 올라간 트럭\n",
    "            else:\n",
    "                bridge.append(0) # 견딜 수 있는 무게보다 초과 됐을 때 0 채워 줌\n",
    "    return time"
   ]
  },
  {
   "cell_type": "code",
   "execution_count": 43,
   "id": "40dc5c18-eab5-4b7a-bed4-7a41e10e4f93",
   "metadata": {},
   "outputs": [],
   "source": [
    "bridge_length = 2\n",
    "weight = 10\n",
    "truck_weights = [7,4,5,6]"
   ]
  },
  {
   "cell_type": "code",
   "execution_count": 44,
   "id": "e884fe92-eda7-4d98-aa7d-bb32661476b3",
   "metadata": {},
   "outputs": [
    {
     "data": {
      "text/plain": [
       "8"
      ]
     },
     "execution_count": 44,
     "metadata": {},
     "output_type": "execute_result"
    }
   ],
   "source": [
    "solution(bridge_length, weight, truck_weights)"
   ]
  },
  {
   "cell_type": "markdown",
   "id": "37cc969c-b7b9-4af8-bca0-791db092b08c",
   "metadata": {},
   "source": [
    "```\n",
    "테스트 1 〉\t통과 (18.29ms, 10.2MB)\n",
    "테스트 2 〉\t통과 (1452.87ms, 10.3MB)\n",
    "테스트 3 〉\t통과 (0.02ms, 10.2MB)\n",
    "테스트 4 〉\t통과 (323.26ms, 10.2MB)\n",
    "테스트 5 〉\t통과 (9957.02ms, 10.1MB)\n",
    "테스트 6 〉\t통과 (1647.48ms, 10.1MB)\n",
    "테스트 7 〉\t통과 (5.99ms, 10.3MB)\n",
    "테스트 8 〉\t통과 (0.20ms, 10.2MB)\n",
    "테스트 9 〉\t통과 (5.25ms, 10.2MB)\n",
    "테스트 10 〉\t통과 (0.25ms, 10.2MB)\n",
    "테스트 11 〉\t통과 (0.01ms, 10MB)\n",
    "테스트 12 〉\t통과 (0.26ms, 10.3MB)\n",
    "테스트 13 〉\t통과 (1.82ms, 10.2MB)\n",
    "테스트 14 〉\t통과 (0.03ms, 10.2MB)\n",
    "```"
   ]
  },
  {
   "cell_type": "code",
   "execution_count": null,
   "id": "a197097a-4962-432d-8050-eff619e91672",
   "metadata": {},
   "outputs": [],
   "source": []
  }
 ],
 "metadata": {
  "kernelspec": {
   "display_name": "imok",
   "language": "python",
   "name": "imok"
  },
  "language_info": {
   "codemirror_mode": {
    "name": "ipython",
    "version": 3
   },
   "file_extension": ".py",
   "mimetype": "text/x-python",
   "name": "python",
   "nbconvert_exporter": "python",
   "pygments_lexer": "ipython3",
   "version": "3.9.10"
  }
 },
 "nbformat": 4,
 "nbformat_minor": 5
}
