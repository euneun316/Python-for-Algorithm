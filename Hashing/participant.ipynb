{
 "cells": [
  {
   "cell_type": "markdown",
   "id": "1f4e59f5-d0e7-4b92-afb3-e6dc64be5d32",
   "metadata": {},
   "source": [
    "# 완주하지 못한 선수\n",
    "\n",
    "---\n",
    "\n",
    "## 💡 문제 설명\n",
    "\n",
    "> 수많은 마라톤 선수들이 마라톤에 참여하였습니다. 단 한 명의 선수를 제외하고는 모든 선수가 마라톤을 완주하였습니다.\n",
    ">\n",
    ">마라톤에 참여한 선수들의 이름이 담긴 배열 participant와 완주한 선수들의 이름이 담긴 배열 completion이 주어질 때, 완주하지 못한 선수의 이름을 return 하도록 solution 함수를 작성해주세요.\n",
    "\n",
    "## 💡 제한 조건\n",
    "\n",
    ">- 마라톤 경기에 참여한 선수의 수는 1명 이상 100,000명 이하입니다.\n",
    ">- completion의 길이는 participant의 길이보다 1 작습니다.\n",
    ">- 참가자의 이름은 1개 이상 20개 이하의 알파벳 소문자로 이루어져 있습니다.\n",
    ">- 참가자 중에는 동명이인이 있을 수 있습니다.\n",
    "\n",
    "## 🔑 입출력 예\n",
    "\n",
    "\n",
    "|participant|completion|return|\n",
    "|:-----:|:-----:|:--:|\n",
    "|[\"leo\", \"kiki\", \"eden\"]|[\"eden\", \"kiki\"]|\"leo\"|\n",
    "|[\"marina\", \"josipa\", \"nikola\", \"vinko\", \"filipa\"]|[\"josipa\", \"filipa\", \"marina\", \"nikola\"]|\"vinko\"|\n",
    "|[\"mislav\", \"stanko\", \"mislav\", \"ana\"]|[\"stanko\", \"ana\", \"mislav\"]|\"mislav\"|\n",
    "\n",
    "<br><br><br><br><br><br>\n",
    "\n",
    "\n",
    "> **[ 입출력 예 설명 ]**\n",
    ">\n",
    ">- 예제 #1\n",
    ">\"leo\"는 참여자 명단에는 있지만, 완주자 명단에는 없기 때문에 완주하지 못했습니다.\n",
    ">\n",
    ">- 예제 #2\n",
    ">\"vinko\"는 참여자 명단에는 있지만, 완주자 명단에는 없기 때문에 완주하지 못했습니다.\n",
    ">\n",
    ">- 예제 #3\n",
    ">\"mislav\"는 참여자 명단에는 두 명이 있지만, 완주자 명단에는 한 명밖에 없기 때문에 한명은 완주하지 못했습니다.\n",
    "\n",
    "---\n",
    "\n",
    "## 🔗 문제 링크\n",
    "- [프로그래머스 - 완주하지 못한 선수](https://programmers.co.kr/learn/courses/30/lessons/42576)\n",
    "\n"
   ]
  },
  {
   "cell_type": "code",
   "execution_count": 42,
   "id": "11c01839-8183-4e49-9a24-5a42b174099e",
   "metadata": {},
   "outputs": [],
   "source": [
    "def solution(participant, completion):\n",
    "    participant.sort()\n",
    "    completion.sort()\n",
    "    \n",
    "    for i in range(len(completion)):\n",
    "        if participant[i]!= completion[i]:\n",
    "            # 동명이인\n",
    "            return participant[i]\n",
    "    # 마지막 선수 완주 못함\n",
    "    return participant[-1]"
   ]
  },
  {
   "cell_type": "code",
   "execution_count": 43,
   "id": "12282b61-789d-469a-809a-936f35cc431a",
   "metadata": {},
   "outputs": [],
   "source": [
    "participant = [\"marina\", \"josipa\", \"nikola\", \"vinko\", \"filipa\"]\n",
    "completion = [\"josipa\", \"filipa\", \"marina\", \"nikola\"]"
   ]
  },
  {
   "cell_type": "code",
   "execution_count": 40,
   "id": "62eb8dc4-ea71-4bd1-b6ca-d3a022540a50",
   "metadata": {},
   "outputs": [],
   "source": [
    "participant = [\"mislav\", \"stanko\", \"mislav\", \"ana\"]\n",
    "completion = [\"stanko\", \"ana\", \"mislav\"]"
   ]
  },
  {
   "cell_type": "code",
   "execution_count": 44,
   "id": "df45f38b-dc86-48f0-8936-778b1ebb2212",
   "metadata": {},
   "outputs": [
    {
     "data": {
      "text/plain": [
       "'vinko'"
      ]
     },
     "execution_count": 44,
     "metadata": {},
     "output_type": "execute_result"
    }
   ],
   "source": [
    "solution(participant, completion)"
   ]
  },
  {
   "cell_type": "markdown",
   "id": "f0f63b55-71a7-406e-a581-d371b240476f",
   "metadata": {},
   "source": [
    "## 다른사람 풀이"
   ]
  },
  {
   "cell_type": "markdown",
   "id": "3cf7304f-9e85-4f96-be00-669d51c43f9b",
   "metadata": {},
   "source": [
    "### zip 사용"
   ]
  },
  {
   "cell_type": "code",
   "execution_count": 32,
   "id": "037400e2-4aba-4262-9cb2-a9eab2db375a",
   "metadata": {},
   "outputs": [],
   "source": [
    "def solution(participant, completion):\n",
    "    participant.sort()\n",
    "    completion.sort()\n",
    "    for p,c in zip(participant,completion):\n",
    "        if p != c:\n",
    "            return p\n",
    "    return participant[-1]"
   ]
  },
  {
   "cell_type": "code",
   "execution_count": 33,
   "id": "415fa5d2-0e5b-407a-ae97-6af2810374ae",
   "metadata": {},
   "outputs": [
    {
     "data": {
      "text/plain": [
       "'vinko'"
      ]
     },
     "execution_count": 33,
     "metadata": {},
     "output_type": "execute_result"
    }
   ],
   "source": [
    "solution(participant, completion)"
   ]
  },
  {
   "cell_type": "markdown",
   "id": "76cfba5e-7b94-47eb-b835-1dfc03f2df95",
   "metadata": {},
   "source": [
    "### Hash 사용"
   ]
  },
  {
   "cell_type": "code",
   "execution_count": 34,
   "id": "5c0b87ed-b216-46b4-b766-84b6562b5307",
   "metadata": {},
   "outputs": [],
   "source": [
    "def solution(participant, completion):\n",
    "    answer = ''\n",
    "    temp = 0\n",
    "    dic = {}\n",
    "    for part in participant:\n",
    "        dic[hash(part)] = part\n",
    "        temp += int(hash(part))\n",
    "    for com in completion:\n",
    "        temp -= hash(com)\n",
    "    answer = dic[temp]\n",
    "\n",
    "    return answer"
   ]
  },
  {
   "cell_type": "code",
   "execution_count": 35,
   "id": "6be08508-63c4-471f-8d15-7cda7b25d94f",
   "metadata": {},
   "outputs": [
    {
     "data": {
      "text/plain": [
       "'vinko'"
      ]
     },
     "execution_count": 35,
     "metadata": {},
     "output_type": "execute_result"
    }
   ],
   "source": [
    "solution(participant, completion)"
   ]
  },
  {
   "cell_type": "code",
   "execution_count": null,
   "id": "a3d6e95b-47e0-4b69-a7a1-1a0730e499bb",
   "metadata": {},
   "outputs": [],
   "source": []
  }
 ],
 "metadata": {
  "kernelspec": {
   "display_name": "imok",
   "language": "python",
   "name": "imok"
  },
  "language_info": {
   "codemirror_mode": {
    "name": "ipython",
    "version": 3
   },
   "file_extension": ".py",
   "mimetype": "text/x-python",
   "name": "python",
   "nbconvert_exporter": "python",
   "pygments_lexer": "ipython3",
   "version": "3.9.10"
  }
 },
 "nbformat": 4,
 "nbformat_minor": 5
}
