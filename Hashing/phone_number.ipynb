{
 "cells": [
  {
   "cell_type": "markdown",
   "id": "1caed6d6-7344-4db7-878c-28e58c3453f1",
   "metadata": {},
   "source": [
    "# 전화번호 목록\n",
    "\n",
    "---\n",
    "\n",
    "## 💡 문제 설명\n",
    "\n",
    "> 전화번호부에 적힌 전화번호 중, 한 번호가 다른 번호의 접두어인 경우가 있는지 확인하려 합니다. <br>\n",
    ">전화번호가 다음과 같을 경우, 구조대 전화번호는 영석이의 전화번호의 접두사입니다.\n",
    "\n",
    ">- 구조대 : 119\n",
    ">- 박준영 : 97 674 223\n",
    ">- 지영석 : 11 9552 4421\n",
    "\n",
    ">전화번호부에 적힌 전화번호를 담은 배열 phone_book 이 solution 함수의 매개변수로 주어질 때, <br>\n",
    ">어떤 번호가 다른 번호의 접두어인 경우가 있으면 false를 그렇지 않으면 true를 return 하도록 solution 함수를 작성해주세요.\n",
    "\n",
    "## 💡 제한 조건\n",
    "\n",
    ">- phone_book의 길이는 1 이상 1,000,000 이하입니다.\n",
    ">    - 각 전화번호의 길이는 1 이상 20 이하입니다.\n",
    ">    -같은 전화번호가 중복해서 들어있지 않습니다.\n",
    "\n",
    "## 🔑 입출력 예\n",
    "\n",
    "\n",
    "|phone_book|return|\n",
    "|:-----:|:--:|\n",
    "|[\"119\", \"97674223\", \"1195524421\"]|false|\n",
    "|[\"123\",\"456\",\"789\"]|true|\n",
    "|[\"12\",\"123\",\"1235\",\"567\",\"88\"]|false|\n",
    "\n",
    "<br><br><br><br><br><br>\n",
    "\n",
    "\n",
    "> **[ 입출력 예 설명 ]**\n",
    ">\n",
    ">- 예제 #2 <br>\n",
    ">한 번호가 다른 번호의 접두사인 경우가 없으므로, 답은 true입니다.\n",
    ">\n",
    ">- 예제 #3 <br>\n",
    ">첫 번째 전화번호, “12”가 두 번째 전화번호 “123”의 접두사입니다. 따라서 답은 false입니다.\n",
    "\n",
    "---\n",
    "\n",
    "## 🔗 문제 링크\n",
    "- [프로그래머스 - 전화번호 목록](https://programmers.co.kr/learn/courses/30/lessons/42577)\n"
   ]
  },
  {
   "cell_type": "code",
   "execution_count": 1,
   "id": "b25e8137-9e05-42c7-84fc-0d4e63e57a54",
   "metadata": {},
   "outputs": [],
   "source": [
    "# 효율성 테스트 실패!\n",
    "def solution(phone_book):\n",
    "    answer = True\n",
    "    for number in phone_book:\n",
    "        temp = \"\"\n",
    "        for n in number: # 전화번호 한자리씩 비교\n",
    "            temp +=n\n",
    "            if temp in phone_book and temp != number : # 접두사로 비교함\n",
    "                answer = False\n",
    "    return answer"
   ]
  },
  {
   "cell_type": "code",
   "execution_count": 2,
   "id": "3cfc31e0-b372-419e-a99c-72a23ce1d2ba",
   "metadata": {},
   "outputs": [],
   "source": [
    "phone_book = [\"119\", \"97674223\", \"1195524421\"]"
   ]
  },
  {
   "cell_type": "code",
   "execution_count": 3,
   "id": "b25f1554-d49f-4211-a4a8-b6e891842320",
   "metadata": {},
   "outputs": [
    {
     "data": {
      "text/plain": [
       "False"
      ]
     },
     "execution_count": 3,
     "metadata": {},
     "output_type": "execute_result"
    }
   ],
   "source": [
    "solution(phone_book)"
   ]
  },
  {
   "cell_type": "markdown",
   "id": "f33b7dd0-05d4-4281-bdbf-d2d817f0fc3d",
   "metadata": {},
   "source": [
    "```\n",
    "효율성  테스트\n",
    "테스트 1 〉\t실패 (시간 초과)\n",
    "테스트 2 〉\t실패 (시간 초과)\n",
    "테스트 3 〉\t실패 (시간 초과)\n",
    "테스트 4 〉\t실패 (시간 초과)\n",
    "```"
   ]
  },
  {
   "cell_type": "markdown",
   "id": "673930f7-a5cb-4286-9b97-a701b8a806dc",
   "metadata": {},
   "source": [
    "#### Hash사용"
   ]
  },
  {
   "cell_type": "code",
   "execution_count": 53,
   "id": "64fe5239-ff48-4418-83e8-93b65e776f28",
   "metadata": {
    "tags": []
   },
   "outputs": [],
   "source": [
    "def solution(phone_book):\n",
    "    answer = True\n",
    "    hash_temp = {}\n",
    "    for number in phone_book:\n",
    "        hash_temp[number] = 0\n",
    "    for number in phone_book:\n",
    "        temp = \"\"\n",
    "        for n in number: # 전화번호 한자리씩\n",
    "            temp +=n\n",
    "            if temp in hash_temp and temp != number : # 접두사로 비교함\n",
    "                answer = False\n",
    "    return answer"
   ]
  },
  {
   "cell_type": "code",
   "execution_count": 51,
   "id": "15245993-abfc-4c5b-aded-ae4c4c17ed73",
   "metadata": {},
   "outputs": [],
   "source": [
    "phone_book = [\"119\", \"97674223\", \"1195524421\"]"
   ]
  },
  {
   "cell_type": "code",
   "execution_count": 52,
   "id": "b5dd1683-5369-461c-8029-804f90f4b274",
   "metadata": {},
   "outputs": [
    {
     "data": {
      "text/plain": [
       "False"
      ]
     },
     "execution_count": 52,
     "metadata": {},
     "output_type": "execute_result"
    }
   ],
   "source": [
    "solution(phone_book)"
   ]
  },
  {
   "cell_type": "markdown",
   "id": "5c7469bb-5d5b-417f-9f1e-de4193ebae7d",
   "metadata": {},
   "source": [
    "```\n",
    "테스트 1 〉\t통과 (15.54ms, 11.4MB)\n",
    "테스트 2 〉\t통과 (15.54ms, 11.3MB)\n",
    "테스트 3 〉\t통과 (472.86ms, 46.8MB)\n",
    "테스트 4 〉\t통과 (489.53ms, 34.6MB)\n",
    "```"
   ]
  },
  {
   "cell_type": "markdown",
   "id": "86c30925-1318-4f2f-834b-c417babc840e",
   "metadata": {},
   "source": [
    "## 다른 사람 풀이"
   ]
  },
  {
   "cell_type": "code",
   "execution_count": 70,
   "id": "10756d4e-8ee0-4a31-a365-a5b511495d4a",
   "metadata": {},
   "outputs": [],
   "source": [
    "def solution(phone_book):\n",
    "    answer = True\n",
    "    phone_book.sort()\n",
    "    print(len(phone_book))\n",
    "    for i in range(len(phone_book)-1):\n",
    "        if phone_book[i] == phone_book[i+1][:len(phone_book[i])]:\n",
    "            answer = False\n",
    "            break\n",
    "    return answer"
   ]
  },
  {
   "cell_type": "code",
   "execution_count": 71,
   "id": "98b3a47a-309b-4bb6-8592-3f7540c69710",
   "metadata": {},
   "outputs": [
    {
     "name": "stdout",
     "output_type": "stream",
     "text": [
      "3\n"
     ]
    },
    {
     "data": {
      "text/plain": [
       "False"
      ]
     },
     "execution_count": 71,
     "metadata": {},
     "output_type": "execute_result"
    }
   ],
   "source": [
    "solution(phone_book)"
   ]
  },
  {
   "cell_type": "markdown",
   "id": "77e1ecc2-b1b3-4b54-ba3f-6eb46afe0aad",
   "metadata": {},
   "source": [
    "```\n",
    "테스트 1 〉\t통과 (3.11ms, 10.8MB)\n",
    "테스트 2 〉\t통과 (3.04ms, 10.8MB)\n",
    "테스트 3 〉\t통과 (110.71ms, 30.7MB)\n",
    "테스트 4 〉\t통과 (92.12ms, 28.1MB)\n",
    "```"
   ]
  },
  {
   "cell_type": "code",
   "execution_count": 72,
   "id": "ae95f71e-9d56-4704-95d8-f11ed8c773e9",
   "metadata": {},
   "outputs": [],
   "source": [
    "def solution(phone_book):\n",
    "    phone_book.sort()\n",
    "    for p1, p2 in zip(phone_book, phone_book[1:]):\n",
    "        if p2.startswith(p1):\n",
    "            return False\n",
    "    return True"
   ]
  },
  {
   "cell_type": "code",
   "execution_count": 73,
   "id": "bc0a8121-4389-410a-a16c-4c5672538779",
   "metadata": {},
   "outputs": [
    {
     "data": {
      "text/plain": [
       "False"
      ]
     },
     "execution_count": 73,
     "metadata": {},
     "output_type": "execute_result"
    }
   ],
   "source": [
    "solution(phone_book)"
   ]
  },
  {
   "cell_type": "markdown",
   "id": "0d01aacc-94cf-47aa-8ee5-290e6407ed4b",
   "metadata": {},
   "source": [
    "```\n",
    "테스트 1 〉\t통과 (2.88ms, 10.8MB)\n",
    "테스트 2 〉\t통과 (2.89ms, 10.8MB)\n",
    "테스트 3 〉\t통과 (98.12ms, 30.6MB)\n",
    "테스트 4 〉\t통과 (85.07ms, 28.1MB)\n",
    "```"
   ]
  },
  {
   "cell_type": "code",
   "execution_count": null,
   "id": "b34c7e75-a787-44f5-9d04-3c42c0d4a914",
   "metadata": {},
   "outputs": [],
   "source": []
  }
 ],
 "metadata": {
  "kernelspec": {
   "display_name": "imok",
   "language": "python",
   "name": "imok"
  },
  "language_info": {
   "codemirror_mode": {
    "name": "ipython",
    "version": 3
   },
   "file_extension": ".py",
   "mimetype": "text/x-python",
   "name": "python",
   "nbconvert_exporter": "python",
   "pygments_lexer": "ipython3",
   "version": "3.9.10"
  }
 },
 "nbformat": 4,
 "nbformat_minor": 5
}
