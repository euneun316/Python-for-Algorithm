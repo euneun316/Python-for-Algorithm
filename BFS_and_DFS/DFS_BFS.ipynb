{
 "cells": [
  {
   "cell_type": "markdown",
   "id": "73cf6ae2-d55a-4eb8-b659-f2b8eb90af80",
   "metadata": {
    "tags": []
   },
   "source": [
    "# DFS와 BFS\n",
    "---\n",
    "\n",
    "## 💡 문제 설명\n",
    "\n",
    "> 그래프를 DFS로 탐색한 결과와 BFS로 탐색한 결과를 출력하는 프로그램을 작성하시오. <br>\n",
    "> 단, 방문할 수 있는 정점이 여러 개인 경우에는 정점 번호가 작은 것을 먼저 방문하고, <br>\n",
    "> 더 이상 방문할 수 있는 점이 없는 경우 종료한다. 정점 번호는 1번부터 N번까지이다. <br>\n",
    "\n",
    "## 💡 입력\n",
    "\n",
    ">- 첫째 줄에 정점의 개수 N(1 ≤ N ≤ 1,000)\n",
    ">- 간선의 개수 M(1 ≤ M ≤ 10,000)\n",
    ">- 탐색을 시작할 정점의 번호 V가 주어진다. \n",
    ">- 다음 M개의 줄에는 간선이 연결하는 두 정점의 번호가 주어진다. >- 어떤 두 정점 사이에 여러 개의 간선이 있을 수 있다. \n",
    ">- 입력으로 주어지는 간선은 양방향이다.\n",
    "\n",
    "## 🔑 출력\n",
    "\n",
    "첫째 줄에 DFS를 수행한 결과를, 그 다음 줄에는 BFS를 수행한 결과를 출력한다. V부터 방문된 점을 순서대로 출력하면 된다.\n",
    "\n",
    "### 예제 입력 #1\n",
    "```\n",
    "4 5 1\n",
    "1 2\n",
    "1 3\n",
    "1 4\n",
    "2 4\n",
    "3 4\n",
    "```\n",
    "### 예제 출력 #1\n",
    "```\n",
    "1 2 4 3\n",
    "1 2 3 4\n",
    "```\n",
    "### 예제 입력 #2\n",
    "```\n",
    "5 5 3\n",
    "5 4\n",
    "5 2\n",
    "1 2\n",
    "3 4\n",
    "3 1\n",
    "```\n",
    "### 예제 출력 #2\n",
    "```\n",
    "3 1 2 5 4\n",
    "3 1 4 2 5\n",
    "```\n",
    "### 예제 입력 #3\n",
    "```\n",
    "1000 1 1000\n",
    "999 1000\n",
    "```\n",
    "### 예제 출력 #3\n",
    "```\n",
    "1000 999\n",
    "1000 999\n",
    "```\n",
    "\n",
    "## 🔗 문제 링크\n",
    "\n",
    "- [백준 - DFS와 BFS](https://www.acmicpc.net/problem/1260)"
   ]
  },
  {
   "cell_type": "code",
   "execution_count": 60,
   "id": "c7f04f09-f0e8-4127-ba89-36c979b8c942",
   "metadata": {},
   "outputs": [
    {
     "name": "stdin",
     "output_type": "stream",
     "text": [
      " 5 5 3\n",
      " 5 4\n",
      " 5 2\n",
      " 1 2\n",
      " 3 4\n",
      " 3 1\n"
     ]
    }
   ],
   "source": [
    "from collections import deque\n",
    "# node, edge, first node\n",
    "N, M, V = map(int, input().split())\n",
    "\n",
    "# 인접 영행렬 생성\n",
    "graph = [[0] * (N + 1) for _ in range(N + 1)]\n",
    "\n",
    "# 방문한 곳 체크를 위한 배열 선언\n",
    "visited = [0] * (N + 1)\n",
    "\n",
    "# 입력 받는 두 값에 대해 영행렬에 1 넣기\n",
    "for _ in range(M): # 인덱스가 필요하지 않을 때 언더스코어(_)\n",
    "    m1, m2 = map(int, input().split())\n",
    "    # 노드 연결 하기\n",
    "    graph[m1][m2] = graph[m2][m1] = 1"
   ]
  },
  {
   "cell_type": "code",
   "execution_count": null,
   "id": "1ef37b69-56dd-40e9-98eb-0349a8f70cc5",
   "metadata": {},
   "outputs": [],
   "source": [
    "import sys\n",
    "read = sys.stdin.readline\n",
    "n, m, v = map(int, read().split())\n",
    "\n",
    "graph = [[0] * (n + 1) for _ in range(n + 1)] \n",
    "visit_list = [0] * (n + 1)\n",
    "visit_list2 = [0] * (n + 1)\n",
    "\n",
    "for _ in range(m):\n",
    "    a, b = map(int, read().split())\n",
    "    graph[a][b] = graph[b][a] = 1"
   ]
  },
  {
   "cell_type": "code",
   "execution_count": 76,
   "id": "51a8a267-adac-4cda-96ce-d200bdc30c0c",
   "metadata": {},
   "outputs": [
    {
     "data": {
      "text/plain": [
       "[[0, 0, 0, 0, 0, 0],\n",
       " [0, 0, 1, 1, 0, 0],\n",
       " [0, 1, 0, 0, 0, 1],\n",
       " [0, 1, 0, 0, 1, 0],\n",
       " [0, 0, 0, 1, 0, 1],\n",
       " [0, 0, 1, 0, 1, 0]]"
      ]
     },
     "execution_count": 76,
     "metadata": {},
     "output_type": "execute_result"
    }
   ],
   "source": [
    "graph"
   ]
  },
  {
   "cell_type": "code",
   "execution_count": 77,
   "id": "6b638475-1c60-4ae5-a8f1-2d98fedb1894",
   "metadata": {},
   "outputs": [
    {
     "data": {
      "text/plain": [
       "[0, 0, 0, 0, 0, 0]"
      ]
     },
     "execution_count": 77,
     "metadata": {},
     "output_type": "execute_result"
    }
   ],
   "source": [
    "visited"
   ]
  },
  {
   "cell_type": "markdown",
   "id": "fe2e42fd-e6b0-4ee3-99de-11936295b343",
   "metadata": {},
   "source": [
    "### DFS(Depth First Search)"
   ]
  },
  {
   "cell_type": "code",
   "execution_count": 78,
   "id": "acf39a58-794c-42d4-99cf-e9dc4c92ac07",
   "metadata": {},
   "outputs": [],
   "source": [
    "def dfs(V):\n",
    "    # 방문한 곳 1 넣기\n",
    "    visited[V] = 1\n",
    "    print(V, end=' ')\n",
    "\n",
    "    # 재귀 함수(V와 인접한 곳을 찾고, 방문 안하면 실행)\n",
    "    for i in range(1,N+1):\n",
    "        if (visited[i]==0 and graph[V][i]==1):\n",
    "            dfs(i)"
   ]
  },
  {
   "cell_type": "code",
   "execution_count": 79,
   "id": "1776dc97-9ad7-4c9f-89e0-eae71e2f18a1",
   "metadata": {},
   "outputs": [
    {
     "name": "stdout",
     "output_type": "stream",
     "text": [
      "3 1 2 5 4 "
     ]
    }
   ],
   "source": [
    "dfs(V)"
   ]
  },
  {
   "cell_type": "code",
   "execution_count": 80,
   "id": "d4fb4371-c0d3-44e7-8aed-633725430ed8",
   "metadata": {},
   "outputs": [
    {
     "data": {
      "text/plain": [
       "[0, 1, 1, 1, 1, 1]"
      ]
     },
     "execution_count": 80,
     "metadata": {},
     "output_type": "execute_result"
    }
   ],
   "source": [
    "visited"
   ]
  },
  {
   "cell_type": "markdown",
   "id": "1ec2e81b-bb49-492d-9848-606855c5ed89",
   "metadata": {},
   "source": [
    "### BFS(Breath First Search)"
   ]
  },
  {
   "cell_type": "code",
   "execution_count": 81,
   "id": "979b9120-d458-4a84-ae17-e8ddf97c4ca0",
   "metadata": {},
   "outputs": [],
   "source": [
    "def bfs(V):\n",
    "    # 방문해야 할 곳을 순서대로 넣을 큐\n",
    "    queue = [V]\n",
    "    \n",
    "    # dfs 완료한 visited 배열 에서 0으로 방문 체크\n",
    "    visited[V] = 0\n",
    "    \n",
    "    # 큐안에 데이터가 없을 때 까지 실행\n",
    "    while queue:\n",
    "        V = queue.pop(0)\n",
    "        print(V, end= ' ')\n",
    "        for i in range(1,N+1):\n",
    "            if (visited[i] == 1 and graph[V][i] == 1):\n",
    "                queue.append(i)\n",
    "                visited[i] = 0"
   ]
  },
  {
   "cell_type": "code",
   "execution_count": 82,
   "id": "8ed1ba57-d7a8-4cbe-b5e9-acd85e1ee996",
   "metadata": {},
   "outputs": [
    {
     "name": "stdout",
     "output_type": "stream",
     "text": [
      "3 1 4 2 5 "
     ]
    }
   ],
   "source": [
    "bfs(V)"
   ]
  },
  {
   "cell_type": "code",
   "execution_count": 83,
   "id": "01fe76e4-0f33-4521-9535-1f4a8abf8717",
   "metadata": {},
   "outputs": [
    {
     "data": {
      "text/plain": [
       "[0, 0, 0, 0, 0, 0]"
      ]
     },
     "execution_count": 83,
     "metadata": {},
     "output_type": "execute_result"
    }
   ],
   "source": [
    "visited"
   ]
  },
  {
   "cell_type": "code",
   "execution_count": null,
   "id": "05a7240a-c15b-413c-a4d3-b515e02d5bf1",
   "metadata": {},
   "outputs": [],
   "source": []
  }
 ],
 "metadata": {
  "kernelspec": {
   "display_name": "imok",
   "language": "python",
   "name": "imok"
  },
  "language_info": {
   "codemirror_mode": {
    "name": "ipython",
    "version": 3
   },
   "file_extension": ".py",
   "mimetype": "text/x-python",
   "name": "python",
   "nbconvert_exporter": "python",
   "pygments_lexer": "ipython3",
   "version": "3.9.10"
  }
 },
 "nbformat": 4,
 "nbformat_minor": 5
}
