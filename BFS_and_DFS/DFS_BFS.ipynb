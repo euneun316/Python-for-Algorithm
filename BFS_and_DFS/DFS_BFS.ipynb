{
 "cells": [
  {
   "cell_type": "markdown",
   "id": "73cf6ae2-d55a-4eb8-b659-f2b8eb90af80",
   "metadata": {
    "tags": []
   },
   "source": [
    "# DFS와 BFS\n",
    "---\n",
    "\n",
    "## 💡 문제 설명\n",
    "\n",
    "> 그래프를 DFS로 탐색한 결과와 BFS로 탐색한 결과를 출력하는 프로그램을 작성하시오. <br>\n",
    "> 단, 방문할 수 있는 정점이 여러 개인 경우에는 정점 번호가 작은 것을 먼저 방문하고, <br>\n",
    "> 더 이상 방문할 수 있는 점이 없는 경우 종료한다. 정점 번호는 1번부터 N번까지이다. <br>\n",
    "\n",
    "## 💡 입력\n",
    "\n",
    ">- 첫째 줄에 정점의 개수 N(1 ≤ N ≤ 1,000)\n",
    ">- 간선의 개수 M(1 ≤ M ≤ 10,000)\n",
    ">- 탐색을 시작할 정점의 번호 V가 주어진다. \n",
    ">- 다음 M개의 줄에는 간선이 연결하는 두 정점의 번호가 주어진다. >- 어떤 두 정점 사이에 여러 개의 간선이 있을 수 있다. \n",
    ">- 입력으로 주어지는 간선은 양방향이다.\n",
    "\n",
    "## 🔑 출력\n",
    "\n",
    "첫째 줄에 DFS를 수행한 결과를, 그 다음 줄에는 BFS를 수행한 결과를 출력한다. V부터 방문된 점을 순서대로 출력하면 된다.\n",
    "\n",
    "### 예제 입력 #1\n",
    "```\n",
    "4 5 1\n",
    "1 2\n",
    "1 3\n",
    "1 4\n",
    "2 4\n",
    "3 4\n",
    "```\n",
    "### 예제 출력 #1\n",
    "```\n",
    "1 2 4 3\n",
    "1 2 3 4\n",
    "```\n",
    "### 예제 입력 #2\n",
    "```\n",
    "5 5 3\n",
    "5 4\n",
    "5 2\n",
    "1 2\n",
    "3 4\n",
    "3 1\n",
    "```\n",
    "### 예제 출력 #2\n",
    "```\n",
    "3 1 2 5 4\n",
    "3 1 4 2 5\n",
    "```\n",
    "### 예제 입력 #3\n",
    "```\n",
    "1000 1 1000\n",
    "999 1000\n",
    "```\n",
    "### 예제 출력 #3\n",
    "```\n",
    "1000 999\n",
    "1000 999\n",
    "```\n",
    "\n",
    "## 🔗 문제 링크\n",
    "\n",
    "- [백준 - DFS와 BFS](https://www.acmicpc.net/problem/1260)"
   ]
  },
  {
   "cell_type": "code",
   "execution_count": null,
   "id": "c7f04f09-f0e8-4127-ba89-36c979b8c942",
   "metadata": {},
   "outputs": [],
   "source": []
  }
 ],
 "metadata": {
  "kernelspec": {
   "display_name": "imok",
   "language": "python",
   "name": "imok"
  },
  "language_info": {
   "codemirror_mode": {
    "name": "ipython",
    "version": 3
   },
   "file_extension": ".py",
   "mimetype": "text/x-python",
   "name": "python",
   "nbconvert_exporter": "python",
   "pygments_lexer": "ipython3",
   "version": "3.9.10"
  }
 },
 "nbformat": 4,
 "nbformat_minor": 5
}
