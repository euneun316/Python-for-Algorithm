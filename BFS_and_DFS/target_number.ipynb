{
 "cells": [
  {
   "cell_type": "markdown",
   "id": "479557bc-b940-4aef-a8df-1a5eeb2a4ae6",
   "metadata": {},
   "source": [
    "# 타겟 넘버\n",
    "---\n",
    "\n",
    "## 💡 문제 설명\n",
    "\n",
    "> n개의 음이 아닌 정수들이 있습니다. 이 정수들을 순서를 바꾸지 않고 적절히 더하거나 빼서 타겟 넘버를 만들려고 합니다. <br>\n",
    "> 예를 들어 [1, 1, 1, 1, 1]로 숫자 3을 만들려면 다음 다섯 방법을 쓸 수 있습니다.\n",
    "\n",
    "```\n",
    "-1+1+1+1+1 = 3\n",
    "+1-1+1+1+1 = 3\n",
    "+1+1-1+1+1 = 3\n",
    "+1+1+1-1+1 = 3\n",
    "+1+1+1+1-1 = 3\n",
    "```\n",
    "\n",
    "> 사용할 수 있는 숫자가 담긴 배열 numbers, 타겟 넘버 target이 매개변수로 주어질 때 <br>\n",
    "> 숫자를 적절히 더하고 빼서 타겟 넘버를 만드는 방법의 수를 return 하도록 solution 함수를 작성해주세요.\n",
    "\n",
    "## 💡 제한사항\n",
    "\n",
    ">- 주어지는 숫자의 개수는 2개 이상 20개 이하입니다.\n",
    ">- 각 숫자는 1 이상 50 이하인 자연수입니다.\n",
    ">- 타겟 넘버는 1 이상 1000 이하인 자연수입니다.\n",
    "\n",
    "## 🔑 입출력 예\n",
    "\n",
    "|numbers|target|return|\n",
    "|:--:|:--:|:--:|\n",
    "|[1, 1, 1, 1, 1]|3|5|\n",
    "|[4, 1, 2, 1]|4|2|\n",
    "\n",
    "## 🔗 문제 링크\n",
    "\n",
    "- [프로그래머스 - 타겟 넘버](https://programmers.co.kr/learn/courses/30/lessons/43165)"
   ]
  },
  {
   "cell_type": "code",
   "execution_count": null,
   "id": "458c5f5f-569f-42b6-bf4e-9f2d34734136",
   "metadata": {},
   "outputs": [],
   "source": []
  }
 ],
 "metadata": {
  "kernelspec": {
   "display_name": "imok",
   "language": "python",
   "name": "imok"
  },
  "language_info": {
   "codemirror_mode": {
    "name": "ipython",
    "version": 3
   },
   "file_extension": ".py",
   "mimetype": "text/x-python",
   "name": "python",
   "nbconvert_exporter": "python",
   "pygments_lexer": "ipython3",
   "version": "3.9.10"
  }
 },
 "nbformat": 4,
 "nbformat_minor": 5
}
