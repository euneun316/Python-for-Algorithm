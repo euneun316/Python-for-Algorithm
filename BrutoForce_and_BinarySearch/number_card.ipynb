{
 "cells": [
  {
   "cell_type": "markdown",
   "id": "8aecd1f1-184e-44bc-85a7-2e75a60ba0a3",
   "metadata": {},
   "source": [
    "# 숫자 카드 2\n",
    "---\n",
    "\n",
    "## 💡 문제 설명\n",
    "\n",
    "> 숫자 카드는 정수 하나가 적혀져 있는 카드이다. \n",
    "> 상근이는 숫자 카드 N개를 가지고 있다. \n",
    "> 정수 M개가 주어졌을 때, 이 수가 적혀있는 숫자 카드를 상근이가 몇 개 가지고 있는지 구하는 프로그램을 작성하시오.\n",
    "\n",
    "## 💡 입력\n",
    "\n",
    ">- 첫째 줄에 상근이가 가지고 있는 숫자 카드의 개수 N(1 ≤ N ≤ 500,000)이 주어진다. \n",
    ">- 둘째 줄에는 숫자 카드에 적혀있는 정수가 주어진다. 숫자 카드에 적혀있는 수는 -10,000,000보다 크거나 같고, 10,000,000보다 작거나 같다.\n",
    ">- 셋째 줄에는 M(1 ≤ M ≤ 500,000)이 주어진다. \n",
    ">- 넷째 줄에는 상근이가 몇 개 가지고 있는 숫자 카드인지 구해야 할 M개의 정수가 주어지며, 이 수는 공백으로 구분되어져 있다. 이 수도 -10,000,000보다 크거나 같고, 10,000,000보다 작거나 같다.\n",
    "\n",
    "## 🔑 출력\n",
    "\n",
    "첫째 줄에 입력으로 주어진 M개의 수에 대해서, 각 수가 적힌 숫자 카드를 상근이가 몇 개 가지고 있는지를 공백으로 구분해 출력한다.\n",
    "\n",
    "|numbers|return|\n",
    "|:---:|:----:|\n",
    "|\"17\"|3|\n",
    "|\"011\"|2|\n",
    "\n",
    "## 예제 입력 #1\n",
    "\n",
    "```\n",
    "10\n",
    "6 3 2 10 10 10 -10 -10 7 3\n",
    "8\n",
    "10 9 -5 2 3 4 5 -10\n",
    "```\n",
    "\n",
    "## 예제 출력 #2\n",
    "```\n",
    "3 0 0 1 2 0 0 2\n",
    "```\n",
    "\n",
    "## 🔗 문제 링크\n",
    "\n",
    "- [백준 - 숫자 카드 2](https://www.acmicpc.net/problem/10816)"
   ]
  },
  {
   "cell_type": "markdown",
   "id": "354426cc-d8f4-4a39-95c5-a3254363edcf",
   "metadata": {},
   "source": [
    "---"
   ]
  },
  {
   "cell_type": "code",
   "execution_count": null,
   "id": "1e1c8ea3-a14f-4d3a-a1a8-9613cda58df5",
   "metadata": {},
   "outputs": [],
   "source": []
  }
 ],
 "metadata": {
  "kernelspec": {
   "display_name": "imok",
   "language": "python",
   "name": "imok"
  },
  "language_info": {
   "codemirror_mode": {
    "name": "ipython",
    "version": 3
   },
   "file_extension": ".py",
   "mimetype": "text/x-python",
   "name": "python",
   "nbconvert_exporter": "python",
   "pygments_lexer": "ipython3",
   "version": "3.9.10"
  }
 },
 "nbformat": 4,
 "nbformat_minor": 5
}
