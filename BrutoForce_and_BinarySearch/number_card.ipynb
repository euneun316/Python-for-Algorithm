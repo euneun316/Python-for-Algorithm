{
 "cells": [
  {
   "cell_type": "markdown",
   "id": "89c648a5-f44d-465e-812a-a5992df12c8d",
   "metadata": {},
   "source": [
    "# 숫자 카드 2\n",
    "\n",
    "---\n",
    "\n",
    "## 🔗 문제 링크\n",
    "- [백준 - 숫자 카드 2](https://www.acmicpc.net/problem/10816)\n",
    "\n",
    "## 💡 문제 설명\n",
    "\n",
    "숫자 카드는 정수 하나가 적혀져 있는 카드이다. 상근이는 숫자 카드 N개를 가지고 있다. 정수 M개가 주어졌을 때, 이 수가 적혀있는 숫자 카드를 상근이가 몇 개 가지고 있는지 구하는 프로그램을 작성하시오.\n",
    "\n",
    "## 입력\n",
    "\n",
    "  첫째 줄에 상근이가 가지고 있는 숫자 카드의 개수 N(1 ≤ N ≤ 500,000)이 주어진다. 둘째 줄에는 숫자 카드에 적혀있는 정수가 주어진다. 숫자 카드에 적혀있는 수는 -10,000,000보다 크거나 같고, 10,000,000보다 작거나 같다.\n",
    "\n",
    "  셋째 줄에는 M(1 ≤ M ≤ 500,000)이 주어진다. 넷째 줄에는 상근이가 몇 개 가지고 있는 숫자 카드인지 구해야 할 M개의 정수가 주어지며, 이 수는 공백으로 구분되어져 있다. 이 수도 -10,000,000보다 크거나 같고, 10,000,000보다 작거나 같다.\n",
    "\n",
    "## 출력\n",
    "\n",
    "  첫째 줄에 입력으로 주어진 M개의 수에 대해서, 각 수가 적힌 숫자 카드를 상근이가 몇 개 가지고 있는지를 공백으로 구분해 출력한다.\n",
    "\n",
    "## 예제 입력 1\n",
    "\n",
    "  ```\n",
    "  10\n",
    "  6 3 2 10 10 10 -10 -10 7 3\n",
    "  8\n",
    "  10 9 -5 2 3 4 5 -10\n",
    "  ```\n",
    "\n",
    "## 예제 출력 1\n",
    "\n",
    "  ```\n",
    "  3 0 0 1 2 0 0 2\n",
    "  ```"
   ]
  },
  {
   "cell_type": "markdown",
   "id": "7fb3b47c-b3a5-4062-bcec-297a1914e4aa",
   "metadata": {},
   "source": [
    "---"
   ]
  },
  {
   "cell_type": "markdown",
   "id": "5aa91861-3f83-47ad-b445-aa9af7a411c0",
   "metadata": {},
   "source": [
    "- 상근이가 가지고 있는 숫자 카드 : 6 3 2 10 10 10 -10 -10 7 3\n",
    "- dict : {6: 1, 3: 2, 2: 1, 10: 3, -10: 2, 7: 1} 로 담긴다.\n"
   ]
  },
  {
   "cell_type": "code",
   "execution_count": 8,
   "id": "d76b2e6e-0654-4791-923e-b0c973a85e51",
   "metadata": {},
   "outputs": [
    {
     "name": "stdin",
     "output_type": "stream",
     "text": [
      " 10\n",
      " 6 3 2 10 10 10 -10 -10 7 3\n",
      " 8\n",
      " 10 9 -5 2 3 4 5 -10\n"
     ]
    }
   ],
   "source": [
    "M = int(input().strip())\n",
    "card = [*map(int, input().split())]\n",
    "N = int(input().strip())\n",
    "count = [*map(int, input().split())]"
   ]
  },
  {
   "cell_type": "code",
   "execution_count": 9,
   "id": "90201a56-3e54-48b0-b612-dc8565b50747",
   "metadata": {},
   "outputs": [
    {
     "data": {
      "text/plain": [
       "[6, 3, 2, 10, 10, 10, -10, -10, 7, 3]"
      ]
     },
     "execution_count": 9,
     "metadata": {},
     "output_type": "execute_result"
    }
   ],
   "source": [
    "card"
   ]
  },
  {
   "cell_type": "code",
   "execution_count": 18,
   "id": "c9ef4067-c33d-41ca-b276-355c8bdede92",
   "metadata": {},
   "outputs": [
    {
     "name": "stdout",
     "output_type": "stream",
     "text": [
      "3 0 0 1 2 0 0 2 "
     ]
    }
   ],
   "source": [
    "_dict = dict()\n",
    "\n",
    "# 숫자카드와 갯수를 dict에 넣는다.\n",
    "for c in card :\n",
    "    if c in _dict :\n",
    "        _dict[c] += 1\n",
    "    else :\n",
    "        _dict[c] = 1\n",
    "# _dict = {6: 1, 3: 2, 2: 1, 10: 3, -10: 2, 7: 1}\n",
    "\n",
    "for c in count :\n",
    "    if c in _dict:\n",
    "        # 숫자카드가 있으면\n",
    "        print(_dict[c], end=' ')\n",
    "    else :\n",
    "        print(0,end=' ')"
   ]
  },
  {
   "cell_type": "code",
   "execution_count": null,
   "id": "2045e968-0b47-418c-9b56-adc2be8888ed",
   "metadata": {
    "tags": []
   },
   "outputs": [],
   "source": [
    "import sys\n",
    "input = sys.stdin.readline\n",
    "\n",
    "M = int(input().strip())\n",
    "card = [*map(int, input().split())]\n",
    "N = int(input().strip())\n",
    "count = [*map(int, input().split())]\n",
    "\n",
    "_dict = dict()\n",
    "\n",
    "# 숫자카드와 갯수를 dict에 넣는다.\n",
    "for c in card :\n",
    "    if c in _dict :\n",
    "        _dict[c] += 1\n",
    "    else :\n",
    "        _dict[c] = 1\n",
    "# _dict = {6: 1, 3: 2, 2: 1, 10: 3, -10: 2, 7: 1}\n",
    "\n",
    "for c in count :\n",
    "    if c in _dict:\n",
    "        # 숫자카드가 있으면\n",
    "        print(_dict[c], end=' ')\n",
    "    else :\n",
    "        print(0,end=' ')"
   ]
  },
  {
   "cell_type": "markdown",
   "id": "dff3f108-7cef-4a50-b44f-2a22dbe77c19",
   "metadata": {},
   "source": [
    "### 다른사람 코드"
   ]
  },
  {
   "cell_type": "code",
   "execution_count": 21,
   "id": "c0f07973-80fc-49b6-bb6b-d701bc7ab199",
   "metadata": {},
   "outputs": [],
   "source": [
    "c={}\n",
    "i=input\n",
    "i()\n",
    "for n in i().split():c[n]=c.get(n,0)+1\n",
    "i()\n",
    "for n in i().split():print(c.get(n,0))"
   ]
  },
  {
   "cell_type": "code",
   "execution_count": 22,
   "id": "3ba237f5-8f10-4b56-a055-2d1deaa1ec56",
   "metadata": {},
   "outputs": [
    {
     "name": "stdout",
     "output_type": "stream",
     "text": [
      "\n"
     ]
    }
   ],
   "source": [
    "import collections\n",
    "\n",
    "input()\n",
    "a = collections.Counter(input().split())\n",
    "input()\n",
    "print(*(a[v] for v in input().split()))"
   ]
  },
  {
   "cell_type": "code",
   "execution_count": null,
   "id": "eea53a79-5abb-4bb8-b192-3621f904f92c",
   "metadata": {},
   "outputs": [],
   "source": []
  }
 ],
 "metadata": {
  "kernelspec": {
   "display_name": "imok",
   "language": "python",
   "name": "imok"
  },
  "language_info": {
   "codemirror_mode": {
    "name": "ipython",
    "version": 3
   },
   "file_extension": ".py",
   "mimetype": "text/x-python",
   "name": "python",
   "nbconvert_exporter": "python",
   "pygments_lexer": "ipython3",
   "version": "3.9.10"
  }
 },
 "nbformat": 4,
 "nbformat_minor": 5
}
