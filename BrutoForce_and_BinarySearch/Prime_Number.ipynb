{
 "cells": [
  {
   "cell_type": "markdown",
   "id": "9b4e1077-cba3-4929-a1a6-31bc50af50ef",
   "metadata": {
    "tags": []
   },
   "source": [
    "# 소수 찾기\n",
    "---\n",
    "\n",
    "## 💡 문제 설명\n",
    "\n",
    "> 한자리 숫자가 적힌 종이 조각이 흩어져있습니다. <br>\n",
    "> 흩어진 종이 조각을 붙여 소수를 몇 개 만들 수 있는지 알아내려 합니다. <br>\n",
    "> 각 종이 조각에 적힌 숫자가 적힌 문자열 numbers가 주어졌을 때, <br>\n",
    "> 종이 조각으로 만들 수 있는 소수가 몇 개인지 return 하도록 solution 함수를 완성해주세요.\n",
    "\n",
    "## 💡 제한 조건\n",
    "\n",
    ">- numbers는 길이 1 이상 7 이하인 문자열입니다.\n",
    ">- numbers는 0~9까지 숫자만으로 이루어져 있습니다.\n",
    ">- \"013\"은 0, 1, 3 숫자가 적힌 종이 조각이 흩어져있다는 의미입니다.\n",
    "\n",
    "## 🔑 입출력 예\n",
    "\n",
    "|numbers|return|\n",
    "|:---:|:----:|\n",
    "|\"17\"|3|\n",
    "|\"011\"|2|\n",
    "\n",
    "> **[ 입출력 예 설명 ]**\n",
    ">\n",
    ">- 입출력 예 #1 <br>\n",
    ">   [1, 7]으로는 소수 [7, 17, 71]를 만들 수 있습니다.\n",
    ">\n",
    ">- 입출력 예 #2 <br>\n",
    ">  [0, 1, 1]으로는 소수 [11, 101]를 만들 수 있습니다.\n",
    ">    - 11과 011은 같은 숫자로 취급합니다.\n",
    "\n",
    "## 🔗 문제 링크\n",
    "- [프로그래머스 - 소수 찾기](https://programmers.co.kr/learn/courses/30/lessons/42839)"
   ]
  },
  {
   "cell_type": "markdown",
   "id": "4922c176-a06a-4629-9a1d-d1118b5e2d81",
   "metadata": {},
   "source": [
    "---"
   ]
  },
  {
   "cell_type": "markdown",
   "id": "f570ae22-af34-4880-ade5-b253093b63f0",
   "metadata": {
    "tags": []
   },
   "source": [
    "## 💻 문제 풀이"
   ]
  },
  {
   "cell_type": "markdown",
   "id": "d847ea0d-a704-4bd2-915d-a2d4e9ff23e0",
   "metadata": {},
   "source": [
    "1. 만들 수 있는 소수가 몇 개인지 -> 순열 (Permutation)사용\n",
    "\n",
    "2. numbers는 문자열이므로 각 숫자를 떼낸다.\n",
    "    - \"17\" -> ['1', '7']\n",
    "\n",
    "3. 분리된 숫자들을 permutations()를 이용해 순열 조합해준다.\n",
    "    - ['1', '7'] -> ('1'), ('7'), ('1','7'), ('7','1')\n",
    "\n",
    "4. 해당 숫자들을 ''.join을 이용해 각각 하나의 숫자로 만들어준다.\n",
    "    - ('1'), ('7'), ('1','7'), ('7','1') -> ['1', '7', '17', '71']\n",
    "\n",
    "5. 각 숫자에 대하여 소수인지 판별한다."
   ]
  },
  {
   "cell_type": "markdown",
   "id": "7db3fe4b-1afa-49c2-b832-7a6af0b017a4",
   "metadata": {},
   "source": [
    "---"
   ]
  },
  {
   "cell_type": "markdown",
   "id": "7547a1f2-3dcb-4fbb-9e02-8da36e1b00aa",
   "metadata": {
    "tags": []
   },
   "source": [
    "### 소수 판별 알고리즘\n",
    "- 소수 : 2보다 큰 자연수 중에서 1과 자기 자신을 제외한 자연수로는 나누어 떨어지지 않는 자연수"
   ]
  },
  {
   "cell_type": "code",
   "execution_count": 41,
   "id": "99dc5057-5bb8-4628-b678-14d0d5feb53a",
   "metadata": {},
   "outputs": [],
   "source": [
    "# 소수 판별 함수 (시간복잡도 O(x))\n",
    "def is_prime_number(x):\n",
    "\n",
    "    if x < 2 :             # 1은 소수 아님\n",
    "        return False   \n",
    "    for i in range(2,x):   # 2부터 (x-1)까지의 모든 수를 확인하기     \n",
    "        if x % i == 0:     # x가 해당 수로 나누어 떨어지면,\n",
    "            return False   # 소수 아님\n",
    "    return True            # 소수"
   ]
  },
  {
   "cell_type": "code",
   "execution_count": 54,
   "id": "2823cdfe-85d0-4f9a-a128-1878bbb6058d",
   "metadata": {},
   "outputs": [
    {
     "data": {
      "text/plain": [
       "False"
      ]
     },
     "execution_count": 54,
     "metadata": {},
     "output_type": "execute_result"
    }
   ],
   "source": [
    "is_prime_number(10)"
   ]
  },
  {
   "cell_type": "code",
   "execution_count": 43,
   "id": "f70f2c7e-f6dc-4c3d-b36f-9b62f35e5e88",
   "metadata": {},
   "outputs": [],
   "source": [
    "# 소수 판별 함수 (시간복잡도 O(x^1/2))\n",
    "import math\n",
    "def is_prime_number(x): # 7\n",
    "    \n",
    "    if x < 2 :                             # 1은 소수 아님\n",
    "        return False\n",
    "    for i in range(2,int(math.sqrt(x))+1): # 2부터 x의 제곱근까지의 모든 수를 확인하기\n",
    "        if x % i == 0:                     # x가 해당 수로 나누어 떨어지면,\n",
    "            return False                   # 소수 아님\n",
    "    return True                            # 소수"
   ]
  },
  {
   "cell_type": "code",
   "execution_count": 44,
   "id": "dbdc82ef-3d37-47d5-8395-73c1a1f2394b",
   "metadata": {},
   "outputs": [
    {
     "data": {
      "text/plain": [
       "True"
      ]
     },
     "execution_count": 44,
     "metadata": {},
     "output_type": "execute_result"
    }
   ],
   "source": [
    "is_prime_number(7)"
   ]
  },
  {
   "cell_type": "markdown",
   "id": "b8755dfc-9b3d-4346-9abb-ccfa966a6af9",
   "metadata": {},
   "source": [
    "---"
   ]
  },
  {
   "cell_type": "markdown",
   "id": "704742c9-ceea-4cc0-8274-2c70b7b3206a",
   "metadata": {
    "tags": []
   },
   "source": [
    "### 순열과 조합 알고리즘\n",
    "- 순열: 서로 다른 n개에서 r개를 선택하여 일렬로 나열하는 것\n",
    "    - 파이썬의 `itertools` 라이브러리의 `permutations()`함수 이용\n",
    "    - nPr = n!/(n-r)!\n",
    "- 조합: 서로 다른 n개에서 순서에 상관없이 서로 다른 r개를 선택하는 것\n",
    "    - 파이썬의 `itertools` 라이브러리의 `combination()`함수 이용\n",
    "    - nCr = n!/r!x(n-r)!"
   ]
  },
  {
   "cell_type": "code",
   "execution_count": 45,
   "id": "39a7735c-33ac-4afd-a8a9-bf296d3ce676",
   "metadata": {},
   "outputs": [
    {
     "name": "stdout",
     "output_type": "stream",
     "text": [
      "[1, 2] [1, 3] [2, 1] [2, 3] [3, 1] [3, 2] "
     ]
    }
   ],
   "source": [
    "# 순열\n",
    "from itertools import permutations\n",
    "\n",
    "data = [1,2,3]\n",
    "\n",
    "for x in permutations(data,2):\n",
    "    print(list(x), end=' ')"
   ]
  },
  {
   "cell_type": "code",
   "execution_count": 46,
   "id": "2482a92e-60ff-4a99-b704-f0196759ff66",
   "metadata": {
    "tags": []
   },
   "outputs": [
    {
     "name": "stdout",
     "output_type": "stream",
     "text": [
      "[1, 2] [1, 3] [2, 3] "
     ]
    }
   ],
   "source": [
    "# 조합\n",
    "from itertools import combinations\n",
    "\n",
    "data = [1,2,3]\n",
    "\n",
    "for x in combinations(data,2):\n",
    "    print(list(x),end=' ')"
   ]
  },
  {
   "cell_type": "markdown",
   "id": "b81488aa-7436-4099-9335-5d765200a4eb",
   "metadata": {},
   "source": [
    "---"
   ]
  },
  {
   "cell_type": "code",
   "execution_count": 47,
   "id": "9ccf1fd5-6dd9-4540-ab7c-ce932cd9c524",
   "metadata": {},
   "outputs": [],
   "source": [
    "from itertools import permutations\n",
    "import math\n",
    "\n",
    "def is_prime_number(x): # 7\n",
    "    \n",
    "    if x < 2 :                             # 1은 소수 아님\n",
    "        return False\n",
    "    for i in range(2,int(math.sqrt(x))+1): # 2부터 x의 제곱근까지의 모든 수를 확인하기\n",
    "        if x % i == 0:                     # x가 해당 수로 나누어 떨어지면,\n",
    "            return False                   # 소수 아님\n",
    "    return True                            # 소수\n",
    "\n",
    "def solution(numbers):\n",
    "    answer = []                                   \n",
    "    nums = [n for n in numbers]                   # numbers를 하나씩 자름 ['1', '7']\n",
    "    per = []           \n",
    "    \n",
    "    for i in range(1, len(numbers)+1):            # numbers의 각 숫자들을 순열로 모든 경우 만들기\n",
    "        per += list(permutations(nums, i))        # i개씩 순열조합 [('1',), ('7',), ('1', '7'), ('7', '1')]\n",
    "        \n",
    "    new_nums = [int((\"\").join(p)) for p in per]   # 각 순열조합을 하나의 int형 숫자로 합침 [1, 7, 17, 71]\n",
    "    \n",
    "    for n in new_nums:                            # 모든 int형 숫자에 대해 소수인지 판별\n",
    "        if is_prime_number(n) :\n",
    "            answer.append(n)                      # 소수일경우 answer 배열에 추가\n",
    "    return len(set(answer))                       # set을 통해 중복 제거 후 반환"
   ]
  },
  {
   "cell_type": "code",
   "execution_count": 48,
   "id": "ad178a5a-3f76-4082-93b6-a6f60b927f9a",
   "metadata": {},
   "outputs": [
    {
     "data": {
      "text/plain": [
       "3"
      ]
     },
     "execution_count": 48,
     "metadata": {},
     "output_type": "execute_result"
    }
   ],
   "source": [
    "numbers = '17'\n",
    "solution(numbers)"
   ]
  },
  {
   "cell_type": "code",
   "execution_count": 49,
   "id": "69d17a2b-9945-43c5-8301-622d6c473a80",
   "metadata": {},
   "outputs": [
    {
     "data": {
      "text/plain": [
       "2"
      ]
     },
     "execution_count": 49,
     "metadata": {},
     "output_type": "execute_result"
    }
   ],
   "source": [
    "numbers = '011'\n",
    "solution(numbers)"
   ]
  },
  {
   "cell_type": "markdown",
   "id": "accc860b-195c-4773-b7cf-13a33ee0bd77",
   "metadata": {},
   "source": [
    "---"
   ]
  },
  {
   "cell_type": "code",
   "execution_count": 50,
   "id": "7481b1e5-74f4-4f82-abdc-1d1d97950562",
   "metadata": {},
   "outputs": [],
   "source": [
    "from itertools import permutations\n",
    "import math\n",
    "\n",
    "def is_prime_number(x): \n",
    "    if x < 2 :                             # 1은 소수 아님\n",
    "        return False\n",
    "    for i in range(2,int(math.sqrt(x))+1): # 2부터 x의 제곱근까지의 모든 수를 확인하기\n",
    "        if x % i == 0:                     # x가 해당 수로 나누어 떨어지면,\n",
    "            return False                   # 소수 아님\n",
    "    return True                            # 소수\n",
    "\n",
    "def solution(numbers):\n",
    "    answer = 0\n",
    "    num = []\n",
    "    \n",
    "    for i in range(1, len(numbers)+1):\n",
    "        num.append(list(set(map(''.join,permutations(numbers,i)))))\n",
    "    per = list(set(map(int, set(sum(num, [])))))\n",
    "    \n",
    "    for p in per:\n",
    "        if is_prime_number(p) == True :\n",
    "            answer +=1\n",
    "    return answer"
   ]
  },
  {
   "cell_type": "code",
   "execution_count": 51,
   "id": "53403013-ad08-4fdd-9bf9-89be4f3e4960",
   "metadata": {},
   "outputs": [
    {
     "data": {
      "text/plain": [
       "3"
      ]
     },
     "execution_count": 51,
     "metadata": {},
     "output_type": "execute_result"
    }
   ],
   "source": [
    "numbers = '17'\n",
    "solution(numbers)"
   ]
  },
  {
   "cell_type": "code",
   "execution_count": 52,
   "id": "a253cb7b-7b8d-4f0c-810b-62756f144332",
   "metadata": {},
   "outputs": [
    {
     "data": {
      "text/plain": [
       "2"
      ]
     },
     "execution_count": 52,
     "metadata": {},
     "output_type": "execute_result"
    }
   ],
   "source": [
    "numbers = '011'\n",
    "solution(numbers)"
   ]
  },
  {
   "cell_type": "code",
   "execution_count": null,
   "id": "2f5d2e47-9b95-4f06-be56-6f0a2ba4dd80",
   "metadata": {},
   "outputs": [],
   "source": []
  }
 ],
 "metadata": {
  "kernelspec": {
   "display_name": "imok",
   "language": "python",
   "name": "imok"
  },
  "language_info": {
   "codemirror_mode": {
    "name": "ipython",
    "version": 3
   },
   "file_extension": ".py",
   "mimetype": "text/x-python",
   "name": "python",
   "nbconvert_exporter": "python",
   "pygments_lexer": "ipython3",
   "version": "3.9.10"
  }
 },
 "nbformat": 4,
 "nbformat_minor": 5
}
