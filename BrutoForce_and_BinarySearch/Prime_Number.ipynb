{
 "cells": [
  {
   "cell_type": "markdown",
   "id": "9b4e1077-cba3-4929-a1a6-31bc50af50ef",
   "metadata": {
    "tags": []
   },
   "source": [
    "# 소수 찾기\n",
    "---\n",
    "\n",
    "## 💡 문제 설명\n",
    "\n",
    "> 한자리 숫자가 적힌 종이 조각이 흩어져있습니다. <br>\n",
    "> 흩어진 종이 조각을 붙여 소수를 몇 개 만들 수 있는지 알아내려 합니다. <br>\n",
    "> 각 종이 조각에 적힌 숫자가 적힌 문자열 numbers가 주어졌을 때, <br>\n",
    "> 종이 조각으로 만들 수 있는 소수가 몇 개인지 return 하도록 solution 함수를 완성해주세요.\n",
    "\n",
    "## 💡 제한 조건\n",
    "\n",
    ">- numbers는 길이 1 이상 7 이하인 문자열입니다.\n",
    ">- numbers는 0~9까지 숫자만으로 이루어져 있습니다.\n",
    ">- \"013\"은 0, 1, 3 숫자가 적힌 종이 조각이 흩어져있다는 의미입니다.\n",
    "\n",
    "## 🔑 입출력 예\n",
    "\n",
    "|numbers|return|\n",
    "|:---:|:----:|\n",
    "|\"17\"|3|\n",
    "|\"011\"|2|\n",
    "\n",
    "> **[ 입출력 예 설명 ]**\n",
    ">\n",
    ">- 입출력 예 #1 <br>\n",
    ">   [1, 7]으로는 소수 [7, 17, 71]를 만들 수 있습니다.\n",
    ">\n",
    ">- 입출력 예 #2 <br>\n",
    ">  [0, 1, 1]으로는 소수 [11, 101]를 만들 수 있습니다.\n",
    ">    - 11과 011은 같은 숫자로 취급합니다.\n",
    "\n",
    "## 🔗 문제 링크\n",
    "- [프로그래머스 - 소수 찾기](https://programmers.co.kr/learn/courses/30/lessons/42839)"
   ]
  },
  {
   "cell_type": "markdown",
   "id": "4922c176-a06a-4629-9a1d-d1118b5e2d81",
   "metadata": {},
   "source": [
    "---"
   ]
  },
  {
   "cell_type": "code",
   "execution_count": null,
   "id": "6abff1d2-df02-4872-b487-0afaf9cff690",
   "metadata": {},
   "outputs": [],
   "source": []
  }
 ],
 "metadata": {
  "kernelspec": {
   "display_name": "imok",
   "language": "python",
   "name": "imok"
  },
  "language_info": {
   "codemirror_mode": {
    "name": "ipython",
    "version": 3
   },
   "file_extension": ".py",
   "mimetype": "text/x-python",
   "name": "python",
   "nbconvert_exporter": "python",
   "pygments_lexer": "ipython3",
   "version": "3.9.10"
  }
 },
 "nbformat": 4,
 "nbformat_minor": 5
}
