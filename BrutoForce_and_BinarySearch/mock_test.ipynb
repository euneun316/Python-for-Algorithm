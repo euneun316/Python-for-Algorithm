{
 "cells": [
  {
   "cell_type": "markdown",
   "id": "2e4537da-45a5-4cbd-ba27-283098779691",
   "metadata": {},
   "source": [
    "# 모의고사\n",
    "---\n",
    "\n",
    "## 💡 문제 설명\n",
    "\n",
    "> 수포자는 수학을 포기한 사람의 준말입니다. 수포자 삼인방은 모의고사에 수학 문제를 전부 찍으려 합니다. 수포자는 1번 문제부터 마지막 문제까지 다음과 같이 찍습니다.\n",
    ">\n",
    "> 1번 수포자가 찍는 방식: 1, 2, 3, 4, 5, 1, 2, 3, 4, 5, ... <br>\n",
    "> 2번 수포자가 찍는 방식: 2, 1, 2, 3, 2, 4, 2, 5, 2, 1, 2, 3, 2, 4, 2, 5, ... <br>\n",
    "> 3번 수포자가 찍는 방식: 3, 3, 1, 1, 2, 2, 4, 4, 5, 5, 3, 3, 1, 1, 2, 2, 4, 4, 5, 5, ... <br>\n",
    ">\n",
    "> 1번 문제부터 마지막 문제까지의 정답이 순서대로 들은 배열 answers가 주어졌을 때, 가장 많은 문제를 맞힌 사람이 누구인지 배열에 담아 return 하도록 solution 함수를 작성해주세요.\n",
    "\n",
    "## 💡 제한 조건\n",
    "\n",
    ">- 시험은 최대 10,000 문제로 구성되어있습니다.\n",
    ">- 문제의 정답은 1, 2, 3, 4, 5중 하나입니다.\n",
    ">- 가장 높은 점수를 받은 사람이 여럿일 경우, return하는 값을 오름차순 정렬해주세요.\n",
    "\n",
    "## 🔑 입출력 예\n",
    "\n",
    "|answers|return|\n",
    "|:---:|:----:|\n",
    "|[1,2,3,4,5]|[1]|\n",
    "|[1,3,2,4,2]|[1,2,3]|\n",
    "\n",
    "> **[ 입출력 예 설명 ]**\n",
    ">\n",
    ">- 입출력 예 #1\n",
    ">\n",
    ">수포자 1은 모든 문제를 맞혔습니다. <br>\n",
    ">수포자 2는 모든 문제를 틀렸습니다. <br>\n",
    ">수포자 3은 모든 문제를 틀렸습니다. <br>\n",
    ">따라서 가장 문제를 많이 맞힌 사람은 수포자 1입니다.\n",
    ">\n",
    ">- 입출력 예 #2\n",
    ">\n",
    ">모든 사람이 2문제씩을 맞췄습니다.\n",
    "\n",
    "## 🔗 문제 링크\n",
    "- [프로그래머스 - 모의고사](https://programmers.co.kr/learn/courses/30/lessons/42840)"
   ]
  },
  {
   "cell_type": "markdown",
   "id": "ac6e4bbf-d7c4-4881-a427-fc76e14febcb",
   "metadata": {},
   "source": [
    "---"
   ]
  },
  {
   "cell_type": "code",
   "execution_count": 34,
   "id": "0bad7fd6-ae89-4a6b-a8b2-6df70d5992f2",
   "metadata": {},
   "outputs": [],
   "source": [
    "def solution(answers):\n",
    "    pattern1 = [1,2,3,4,5] #1번 수포자\n",
    "    pattern2 = [2,1,2,3,2,4,2,5] #2번 수포자\n",
    "    pattern3 = [3,3,1,1,2,2,4,4,5,5] #3번 수포자\n",
    "    score = [0 for i in range(3)] # [0, 0, 0] # 맞춘 점수 넣는 배열\n",
    "    # score = [0] * 3\n",
    "    \n",
    "    # 맞춘 점수 확인\n",
    "    for i in range(len(answers)): # [1,2,3,4,5]\n",
    "        ans = answers[i]\n",
    "        \n",
    "        # 1번 수포자\n",
    "        if(pattern1[i%len(pattern1)] == ans):\n",
    "            score[0] += 1\n",
    "        # 2번 수포자\n",
    "        if(pattern2[i%len(pattern2)] == ans):\n",
    "            score[1] += 1\n",
    "        # 3번 수포자\n",
    "        if(pattern3[i%len(pattern3)] == ans):\n",
    "            score[2] += 1     \n",
    "    \n",
    "    result = []\n",
    "    winner = max(score) # 가장 많이 맞춘 사람의 개수\n",
    "    \n",
    "    for i in range(len(score)): # 3\n",
    "        if(score[i] == winner):\n",
    "            result.append(i + 1)\n",
    "    \n",
    "    return sorted(result) # 오름차순 정렬"
   ]
  },
  {
   "cell_type": "code",
   "execution_count": 35,
   "id": "3f8540ca-6a17-425b-ad7d-a36a8034464a",
   "metadata": {},
   "outputs": [
    {
     "data": {
      "text/plain": [
       "[1]"
      ]
     },
     "execution_count": 35,
     "metadata": {},
     "output_type": "execute_result"
    }
   ],
   "source": [
    "answers = [1,2,3,4,5]\n",
    "solution(answers)"
   ]
  },
  {
   "cell_type": "code",
   "execution_count": 36,
   "id": "7b5b1e22-7ef5-48b3-b05f-bd23a67a97bc",
   "metadata": {},
   "outputs": [
    {
     "data": {
      "text/plain": [
       "[1, 2, 3]"
      ]
     },
     "execution_count": 36,
     "metadata": {},
     "output_type": "execute_result"
    }
   ],
   "source": [
    "answers = [1,3,2,4,2]\n",
    "solution(answers)"
   ]
  },
  {
   "cell_type": "markdown",
   "id": "8a0a4eba-a7bd-4e80-aaaa-e2a5b96a6ec9",
   "metadata": {},
   "source": [
    "---"
   ]
  },
  {
   "cell_type": "markdown",
   "id": "6b50014e-3e14-4743-8229-ac0b08c1e330",
   "metadata": {},
   "source": [
    "### enumerate() 사용\n",
    "- 인덱스(index)와 원소를 동시에 접근\n",
    "- 기본적으로 인덱스와 원소로 이루어진 tuple을 만들어 준다.\n",
    "- 인덱스와 원소를 각각 다른 변수에 할당하고 싶다면 unpacking을 해줘야 한다."
   ]
  },
  {
   "cell_type": "code",
   "execution_count": 37,
   "id": "533ff898-def5-49a6-b68a-7e0fcc66bc00",
   "metadata": {},
   "outputs": [],
   "source": [
    "def solution(answers):\n",
    "    pattern1 = [1,2,3,4,5]\n",
    "    pattern2 = [2,1,2,3,2,4,2,5]\n",
    "    pattern3 = [3,3,1,1,2,2,4,4,5,5]\n",
    "    score = [0, 0, 0]\n",
    "    result = []\n",
    "\n",
    "    for i, answer in enumerate(answers):\n",
    "        if answer == pattern1[i%len(pattern1)]:\n",
    "            score[0] += 1\n",
    "        if answer == pattern2[i%len(pattern2)]:\n",
    "            score[1] += 1\n",
    "        if answer == pattern3[i%len(pattern3)]:\n",
    "            score[2] += 1\n",
    "\n",
    "    for i, s in enumerate(score):\n",
    "        if s == max(score):\n",
    "            result.append(i + 1)\n",
    "\n",
    "    return result"
   ]
  },
  {
   "cell_type": "code",
   "execution_count": 38,
   "id": "d1683a76-ce8e-48cf-bbf3-6181d42f55f5",
   "metadata": {},
   "outputs": [],
   "source": [
    "def solution(answers): \n",
    "    p = [[1, 2, 3, 4, 5], \n",
    "         [2, 1, 2, 3, 2, 4, 2, 5], \n",
    "         [3, 3, 1, 1, 2, 2, 4, 4, 5, 5]] \n",
    "    s = [0] * len(p) #맞춘 개수\n",
    "    \n",
    "    for q, a in enumerate(s): \n",
    "        for i, v in enumerate(p):\n",
    "            if a == v[q % len(v)]:\n",
    "                answer[i] += 1\n",
    "    return [i + 1 for i, v in enumerate(s) if v == max(s)]\n"
   ]
  },
  {
   "cell_type": "code",
   "execution_count": 39,
   "id": "d8796656-391c-4d93-bed0-d2ac830af974",
   "metadata": {},
   "outputs": [
    {
     "data": {
      "text/plain": [
       "[1, 2, 3]"
      ]
     },
     "execution_count": 39,
     "metadata": {},
     "output_type": "execute_result"
    }
   ],
   "source": [
    "answers = [1,3,2,4,2]\n",
    "solution(answers)"
   ]
  },
  {
   "cell_type": "markdown",
   "id": "9a59242f-a659-46cb-8799-48550f6b359b",
   "metadata": {},
   "source": [
    "- enumerate 연습"
   ]
  },
  {
   "cell_type": "code",
   "execution_count": 25,
   "id": "27c45a53-52ac-41d3-8cfd-d2fa7296d3d2",
   "metadata": {},
   "outputs": [
    {
     "name": "stdout",
     "output_type": "stream",
     "text": [
      "(0, 'A')\n",
      "(1, 'B')\n",
      "(2, 'C')\n"
     ]
    }
   ],
   "source": [
    "for entry in enumerate(['A', 'B', 'C']):\n",
    "    print(entry)"
   ]
  },
  {
   "cell_type": "code",
   "execution_count": 17,
   "id": "9f0a4f96-47cd-4f65-9903-1c1245210ccd",
   "metadata": {},
   "outputs": [
    {
     "name": "stdout",
     "output_type": "stream",
     "text": [
      "1 A\n",
      "2 B\n",
      "3 C\n"
     ]
    }
   ],
   "source": [
    "for i, letter in enumerate(['A', 'B', 'C'], start=1):\n",
    "    print(i, letter)"
   ]
  },
  {
   "cell_type": "code",
   "execution_count": 18,
   "id": "7da993ac-9a4f-4cd0-b910-6e7f6360fa64",
   "metadata": {},
   "outputs": [
    {
     "name": "stdout",
     "output_type": "stream",
     "text": [
      "0 A\n",
      "1 B\n",
      "2 C\n"
     ]
    }
   ],
   "source": [
    "for i, letter in enumerate(['A', 'B', 'C']):\n",
    "    print(i, letter)"
   ]
  }
 ],
 "metadata": {
  "kernelspec": {
   "display_name": "imok",
   "language": "python",
   "name": "imok"
  },
  "language_info": {
   "codemirror_mode": {
    "name": "ipython",
    "version": 3
   },
   "file_extension": ".py",
   "mimetype": "text/x-python",
   "name": "python",
   "nbconvert_exporter": "python",
   "pygments_lexer": "ipython3",
   "version": "3.9.10"
  }
 },
 "nbformat": 4,
 "nbformat_minor": 5
}
