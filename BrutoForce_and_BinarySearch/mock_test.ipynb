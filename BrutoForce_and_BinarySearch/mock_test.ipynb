{
 "cells": [
  {
   "cell_type": "markdown",
   "id": "2e4537da-45a5-4cbd-ba27-283098779691",
   "metadata": {},
   "source": [
    "# 모의고사\n",
    "---\n",
    "\n",
    "## 💡 문제 설명\n",
    "\n",
    "> 수포자는 수학을 포기한 사람의 준말입니다. 수포자 삼인방은 모의고사에 수학 문제를 전부 찍으려 합니다. 수포자는 1번 문제부터 마지막 문제까지 다음과 같이 찍습니다.\n",
    ">\n",
    "> 1번 수포자가 찍는 방식: 1, 2, 3, 4, 5, 1, 2, 3, 4, 5, ... <br>\n",
    "> 2번 수포자가 찍는 방식: 2, 1, 2, 3, 2, 4, 2, 5, 2, 1, 2, 3, 2, 4, 2, 5, ... <br>\n",
    "> 3번 수포자가 찍는 방식: 3, 3, 1, 1, 2, 2, 4, 4, 5, 5, 3, 3, 1, 1, 2, 2, 4, 4, 5, 5, ... <br>\n",
    ">\n",
    "> 1번 문제부터 마지막 문제까지의 정답이 순서대로 들은 배열 answers가 주어졌을 때, 가장 많은 문제를 맞힌 사람이 누구인지 배열에 담아 return 하도록 solution 함수를 작성해주세요.\n",
    "\n",
    "## 💡 제한 조건\n",
    "\n",
    ">- 시험은 최대 10,000 문제로 구성되어있습니다.\n",
    ">- 문제의 정답은 1, 2, 3, 4, 5중 하나입니다.\n",
    ">- 가장 높은 점수를 받은 사람이 여럿일 경우, return하는 값을 오름차순 정렬해주세요.\n",
    "\n",
    "## 🔑 입출력 예\n",
    "\n",
    "|answers|return|\n",
    "|:---:|:----:|\n",
    "|[1,2,3,4,5]|[1]|\n",
    "|[1,3,2,4,2]|[1,2,3]|\n",
    "\n",
    "> **[ 입출력 예 설명 ]**\n",
    ">\n",
    ">- 입출력 예 #1\n",
    ">\n",
    ">수포자 1은 모든 문제를 맞혔습니다.\n",
    ">수포자 2는 모든 문제를 틀렸습니다.\n",
    ">수포자 3은 모든 문제를 틀렸습니다.\n",
    ">따라서 가장 문제를 많이 맞힌 사람은 수포자 1입니다.\n",
    ">\n",
    ">- 입출력 예 #2\n",
    ">\n",
    ">모든 사람이 2문제씩을 맞췄습니다."
   ]
  },
  {
   "cell_type": "markdown",
   "id": "ac6e4bbf-d7c4-4881-a427-fc76e14febcb",
   "metadata": {},
   "source": [
    "---"
   ]
  },
  {
   "cell_type": "code",
   "execution_count": 15,
   "id": "0bad7fd6-ae89-4a6b-a8b2-6df70d5992f2",
   "metadata": {},
   "outputs": [],
   "source": [
    "def solution(answers):\n",
    "    answer = [0 for i in range(3)]\n",
    "    pattern1 = [1,2,3,4,5] #1번 수포자\n",
    "    pattern2 = [2,1,2,3,2,4,2,5] #2번 수포자\n",
    "    pattern3 = [3,3,1,1,2,2,4,4,5,5] #3번 수포자\n",
    "    \n",
    "    for i in range(len(answers)):\n",
    "        ans = answers[i]\n",
    "        if(pattern1[i%len(pattern1)] == ans):\n",
    "            answer[0] += 1\n",
    "        if(pattern2[i%len(pattern2)] == ans):\n",
    "            answer[1] += 1\n",
    "        if(pattern3[i%len(pattern3)] == ans):\n",
    "            answer[2] += 1     \n",
    "    \n",
    "    result = []\n",
    "    for i in range(len(answer)):\n",
    "        if(answer[i] == max(answer)):\n",
    "            result.append(i+1)\n",
    "    \n",
    "    return sorted(result) # 오름차순 정렬"
   ]
  },
  {
   "cell_type": "code",
   "execution_count": 16,
   "id": "3f8540ca-6a17-425b-ad7d-a36a8034464a",
   "metadata": {},
   "outputs": [
    {
     "name": "stdout",
     "output_type": "stream",
     "text": [
      "0\n",
      "1\n",
      "2\n",
      "3\n",
      "4\n"
     ]
    },
    {
     "data": {
      "text/plain": [
       "[1]"
      ]
     },
     "execution_count": 16,
     "metadata": {},
     "output_type": "execute_result"
    }
   ],
   "source": [
    "answers = [1,2,3,4,5]\n",
    "solution(answers)"
   ]
  },
  {
   "cell_type": "code",
   "execution_count": 13,
   "id": "f33b25f5-942e-403a-b30d-2bb27aa053a7",
   "metadata": {},
   "outputs": [],
   "source": [
    "answer = [0 for i in range(3)]"
   ]
  },
  {
   "cell_type": "code",
   "execution_count": 14,
   "id": "f6f88ad8-4654-4652-839f-ea96c597c4f5",
   "metadata": {},
   "outputs": [
    {
     "data": {
      "text/plain": [
       "[0, 0, 0]"
      ]
     },
     "execution_count": 14,
     "metadata": {},
     "output_type": "execute_result"
    }
   ],
   "source": [
    "answer"
   ]
  },
  {
   "cell_type": "code",
   "execution_count": null,
   "id": "ff81c70a-c644-4ab8-930d-6894d46001bf",
   "metadata": {},
   "outputs": [],
   "source": []
  }
 ],
 "metadata": {
  "kernelspec": {
   "display_name": "imok",
   "language": "python",
   "name": "imok"
  },
  "language_info": {
   "codemirror_mode": {
    "name": "ipython",
    "version": 3
   },
   "file_extension": ".py",
   "mimetype": "text/x-python",
   "name": "python",
   "nbconvert_exporter": "python",
   "pygments_lexer": "ipython3",
   "version": "3.9.10"
  }
 },
 "nbformat": 4,
 "nbformat_minor": 5
}
