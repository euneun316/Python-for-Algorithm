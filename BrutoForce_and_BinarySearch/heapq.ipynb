{
 "cells": [
  {
   "cell_type": "markdown",
   "id": "bb560141-a3e2-44ea-9e22-3647f0320793",
   "metadata": {},
   "source": [
    "- 원소를 힙에 전부 넣었다가 빼는 것만으로도 시간 복잡도 O(NlogN)"
   ]
  },
  {
   "cell_type": "code",
   "execution_count": 1,
   "id": "22bb658f-2b9e-445e-95cd-bcc1ad16c02f",
   "metadata": {},
   "outputs": [],
   "source": [
    "# 힙 정렬을 heapq로 구현하는 예제\n",
    "import heapq\n",
    "\n",
    "def heapsort(iterable):\n",
    "    h = []\n",
    "    result = []\n",
    "    # 모든 원소를 차례대로 힙에 삽입\n",
    "    for value in iterable:\n",
    "        heapq.heappush(h, value)\n",
    "    # 힙에 삽입된 모든 원소를 차례대로 꺼내어 담기\n",
    "    for i in range(len(h)):\n",
    "        result.append(heapq.heappop(h))\n",
    "    return result"
   ]
  },
  {
   "cell_type": "code",
   "execution_count": 2,
   "id": "74abd4ca-0d0a-40cd-a38f-26726483947c",
   "metadata": {},
   "outputs": [
    {
     "name": "stdout",
     "output_type": "stream",
     "text": [
      "[0, 1, 2, 3, 4, 5, 6, 7, 8, 9]\n"
     ]
    }
   ],
   "source": [
    "result = heapsort([1,3,5,7,9,2,4,6,8,0])\n",
    "print(result)"
   ]
  },
  {
   "cell_type": "code",
   "execution_count": 3,
   "id": "bed35d5f-740a-4748-bfa4-9a236d839751",
   "metadata": {},
   "outputs": [],
   "source": [
    "# 파이썬은 최대 힙을 제공하지 않으므로 아래와 같이 부호를 변경하는 방식으로 최대 힙을 사용한다.\n",
    "import heapq\n",
    "\n",
    "def heapsort(iterable):\n",
    "    h = []\n",
    "    result = []\n",
    "    # 모든 원소를 차례대로 힙에 삽입\n",
    "    for value in iterable:\n",
    "        heapq.heappush(h, -value)\n",
    "    # 힙에 삽입된 모든 원소를 차례대로 꺼내어 담기\n",
    "    for i in range(len(h)):\n",
    "        result.append(-heapq.heappop(h))\n",
    "    return result"
   ]
  },
  {
   "cell_type": "code",
   "execution_count": 4,
   "id": "ec8c5541-cb99-4404-b4e1-2138ba31599f",
   "metadata": {},
   "outputs": [
    {
     "name": "stdout",
     "output_type": "stream",
     "text": [
      "[9, 8, 7, 6, 5, 4, 3, 2, 1, 0]\n"
     ]
    }
   ],
   "source": [
    "result = heapsort([1,3,5,7,9,2,4,6,8,0])\n",
    "print(result)"
   ]
  },
  {
   "cell_type": "code",
   "execution_count": null,
   "id": "ff109241-1de9-429e-b349-c6f8965e2600",
   "metadata": {},
   "outputs": [],
   "source": []
  }
 ],
 "metadata": {
  "kernelspec": {
   "display_name": "imok",
   "language": "python",
   "name": "imok"
  },
  "language_info": {
   "codemirror_mode": {
    "name": "ipython",
    "version": 3
   },
   "file_extension": ".py",
   "mimetype": "text/x-python",
   "name": "python",
   "nbconvert_exporter": "python",
   "pygments_lexer": "ipython3",
   "version": "3.9.10"
  }
 },
 "nbformat": 4,
 "nbformat_minor": 5
}
