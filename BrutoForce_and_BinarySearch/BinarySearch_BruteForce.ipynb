{
 "cells": [
  {
   "cell_type": "markdown",
   "id": "aa673104-d5b3-4145-9dc6-1d4b2396789c",
   "metadata": {
    "tags": []
   },
   "source": [
    "# 이진 탐색(Binary Search)\n",
    "- 배열 내부의 데이터가 정렬되어 있어야만 사용할 수 있는 알고리즘\n",
    "- 탐색 범위를 절반씩 좁혀가며 데이터를 탐색하는 특징\n",
    "- 시작점 / 끝점 / 중간점\n",
    "- 찾으려는 데이터와 중간점 위치에 있는 데이터를 반복적으로 비교해서 원하는 데이터를 찾는 게 이진 탐색 과정임\n",
    "- 탐색 범위가 큰 상황에서의 참색을 가정하는 문제에서 접근\n",
    "- 시간 복잡도 O(log N)"
   ]
  },
  {
   "cell_type": "markdown",
   "id": "8b20009d-4009-4c3a-a37e-cd0ab755956e",
   "metadata": {},
   "source": [
    "## 이진 탐색 소스코드 구현 (재귀 함수)"
   ]
  },
  {
   "cell_type": "code",
   "execution_count": 3,
   "id": "cdc6e48d-93bb-444a-b701-66ed315ad483",
   "metadata": {},
   "outputs": [
    {
     "name": "stdin",
     "output_type": "stream",
     "text": [
      " 10 7\n",
      " 1 3 5 7 9 11 13 15 17 19\n"
     ]
    },
    {
     "name": "stdout",
     "output_type": "stream",
     "text": [
      "4\n"
     ]
    }
   ],
   "source": [
    "def binary_search(array, target, start, end):\n",
    "    if start > end:\n",
    "        return None\n",
    "    mid = (start + end) // 2\n",
    "    # 찾은 경우 중간점 인덱스 반환\n",
    "    if array[mid] == target:\n",
    "        return mid\n",
    "    # 중간점의 값보다 찾고자 하는 값이 작은 경우 왼쪽 확인\n",
    "    elif array[mid] > target:\n",
    "        return binary_search(array, target, start, mid - 1)\n",
    "    # 중간점의 값보다 찾고자 하는 값이 큰 경우 오른쪽 확인\n",
    "    else:\n",
    "        return binary_search(array, target, mid + 1, end)\n",
    "\n",
    "# n(원소의 개수)과 target(찾고자 하는 값)을 입력 받기\n",
    "n, target = list(map(int, input().split()))\n",
    "# 전체 원소 입력 받기\n",
    "array = list(map(int, input().split()))\n",
    "\n",
    "# 이진 탐색 수행 결과 출력\n",
    "result = binary_search(array, target, 0, n - 1)\n",
    "if result == None:\n",
    "    print(\"원소가 존재하지 않습니다.\")\n",
    "else:\n",
    "    print(result + 1)"
   ]
  },
  {
   "cell_type": "markdown",
   "id": "7735a9c0-36ab-49c7-9bc0-29b036169387",
   "metadata": {},
   "source": [
    "### 이진 탐색 소스코드 구현 (반복문)"
   ]
  },
  {
   "cell_type": "code",
   "execution_count": 4,
   "id": "1cbeb7e3-edbf-49db-98f1-8a8a52681462",
   "metadata": {},
   "outputs": [
    {
     "name": "stdin",
     "output_type": "stream",
     "text": [
      " 10 7\n",
      " 1 3 5 8 9 11 13 15 17 19\n"
     ]
    },
    {
     "name": "stdout",
     "output_type": "stream",
     "text": [
      "원소가 존재하지 않습니다.\n"
     ]
    }
   ],
   "source": [
    "def binary_search(array, target, start, end):\n",
    "    while start <= end:\n",
    "        mid = (start + end) // 2\n",
    "        # 찾은 경우 중간점 인덱스 반환\n",
    "        if array[mid] == target:\n",
    "            return mid\n",
    "        # 중간점의 값보다 찾고자 하는 값이 작은 경우 왼쪽 확인\n",
    "        elif array[mid] > target:\n",
    "            end = mid - 1\n",
    "        # 중간점의 값보다 찾고자 하는 값이 큰 경우 오른쪽 확인\n",
    "        else:\n",
    "            start = mid + 1\n",
    "    return None\n",
    "\n",
    "# n(원소의 개수)과 target(찾고자 하는 값)을 입력 받기\n",
    "n, target = list(map(int, input().split()))\n",
    "# 전체 원소 입력 받기\n",
    "array = list(map(int, input().split()))\n",
    "\n",
    "# 이진 탐색 수행 결과 출력\n",
    "result = binary_search(array, target, 0, n - 1)\n",
    "if result == None:\n",
    "    print(\"원소가 존재하지 않습니다.\")\n",
    "else:\n",
    "    print(result + 1)"
   ]
  },
  {
   "cell_type": "markdown",
   "id": "73c57568-dbf1-46bd-a590-b473752a3abb",
   "metadata": {},
   "source": [
    "### 한 줄 입력받아 출력하는 소스코드\n",
    "- 이진 탐색 문제는 입력 데이터가 많거나, 탐색 범위가 매우 넓은 편이다.\n",
    "- 따라서 input() 함수를 사용하면 동작 속도가 느리기 때문에 sys 라이브러리의 readline() 함수를 사용해 시간초과를 피한다."
   ]
  },
  {
   "cell_type": "code",
   "execution_count": 13,
   "id": "9f16518b-1ee9-4049-8550-6c3d9a3af866",
   "metadata": {},
   "outputs": [],
   "source": [
    "import sys\n",
    "\n",
    "# 하나의 문자열 데이터 입력 받기\n",
    "input_data = sys.stdin.readline().rstrip()"
   ]
  },
  {
   "cell_type": "code",
   "execution_count": 14,
   "id": "de169a8d-a639-4dc7-9082-b7ac59b62149",
   "metadata": {},
   "outputs": [
    {
     "name": "stdout",
     "output_type": "stream",
     "text": [
      "\n"
     ]
    }
   ],
   "source": [
    "# 입력 받은 문자열 그대로 출력하기\n",
    "print(input_data)"
   ]
  },
  {
   "cell_type": "markdown",
   "id": "b9719b4e-53be-448d-be4f-5cd9b4c29b45",
   "metadata": {},
   "source": [
    "---"
   ]
  },
  {
   "cell_type": "markdown",
   "id": "ed50d823-1d5a-46bf-ad04-a705d0cd49e0",
   "metadata": {
    "tags": []
   },
   "source": [
    "# 완전 탐색(Brute Force)\n",
    "- 컴퓨터의 빠른 계산 능력을 이용하여 가능한 경우의 수를 일일이 나열하면서 답을 찾는 방법을 의미한다. \n",
    "- '무식하게 푼다'라는 의미인 Brute-Force (브루트 포스)라고도 부른다.\n",
    "- 완전 탐색 문제는 N의 크기가 매우 작다.\n",
    "- 시간 복잡도가 O(2^N)이나, O(N!) 이므로 당연히 N의 크기가 매우 작아야 한다. \n",
    ">- 단순 Brute-Force : for문과 if문을 이용하여 처음부터 끝까지 탐색하는 방법\n",
    ">- 비트마스크(Bitmask) : 2진수를 이용하는 컴퓨터의 연산을 이용하는 방식이다. 완전 탐색에서 비트마스크는 문제에서 나올 수 있는 모든 경우의 수가 각각의 원소가 포함되거나, 포함되지 않는 두 가지 선택으로 구성되는 경우에 유용하게 사용이 가능\n",
    ">- 재귀 함수 : 재귀 함수를 통해서 문제를 만족하는 경우들을 만들어가는 방식\n",
    ">- 순열 (Permutation) : 서로 다른 N개를 일렬로 나열하는 순열의 경우의 수는 N! 이므로 완전 탐색을 이용하기 위해서는 N이 한자리 수 정도는 되어야 한다.\n",
    ">- BFS / DFS : 약간의 난이도가 있는 문제로 완전 탐색 + BFS/DFS 문제가 많이 나온다. 대표적인 유형으로 길 찾기 문제가 있다. 단순히 길을 찾는 문제라면 BFS/DFS만 이용해도 충분하지만, 주어진 도로에 장애물을 설치하거나, 목적지를 추가하는 등의 추가적인 작업이 필요한 경우에 이를 완전 탐색으로 해결하고 나서, BFS/DFS를 이용하는 방식"
   ]
  }
 ],
 "metadata": {
  "kernelspec": {
   "display_name": "imok",
   "language": "python",
   "name": "imok"
  },
  "language_info": {
   "codemirror_mode": {
    "name": "ipython",
    "version": 3
   },
   "file_extension": ".py",
   "mimetype": "text/x-python",
   "name": "python",
   "nbconvert_exporter": "python",
   "pygments_lexer": "ipython3",
   "version": "3.9.10"
  }
 },
 "nbformat": 4,
 "nbformat_minor": 5
}
