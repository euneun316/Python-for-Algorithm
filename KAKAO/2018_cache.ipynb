{
 "cells": [
  {
   "cell_type": "markdown",
   "id": "6dfb34c2-40d2-426e-9a3e-01aca3d49a38",
   "metadata": {},
   "source": [
    "# 2018 KAKAO BLIND RECRUITMENT\n",
    "## [1차] 캐시"
   ]
  },
  {
   "cell_type": "markdown",
   "id": "7930c309-953d-41e5-bbc8-3343b2f80d13",
   "metadata": {},
   "source": [
    "### 💡 문제 설명\n",
    "\n",
    "지도개발팀에서 근무하는 제이지는 지도에서 도시 이름을 검색하면 해당 도시와 관련된 맛집 게시물들을 데이터베이스에서 읽어 보여주는 서비스를 개발하고 있다.\n",
    "이 프로그램의 테스팅 업무를 담당하고 있는 어피치는 서비스를 오픈하기 전 각 로직에 대한 성능 측정을 수행하였는데, 제이지가 작성한 부분 중 데이터베이스에서 게시물을 가져오는 부분의 실행시간이 너무 오래 걸린다는 것을 알게 되었다.\n",
    "어피치는 제이지에게 해당 로직을 개선하라고 닦달하기 시작하였고, 제이지는 DB 캐시를 적용하여 성능 개선을 시도하고 있지만 캐시 크기를 얼마로 해야 효율적인지 몰라 난감한 상황이다.\n",
    "\n",
    "어피치에게 시달리는 제이지를 도와, DB 캐시를 적용할 때 캐시 크기에 따른 실행시간 측정 프로그램을 작성하시오.\n",
    "\n",
    "### 💡 입력 형식\n",
    "\n",
    "- 캐시 크기(`cacheSize`)와 도시이름 배열(`cities`)을 입력받는다.\n",
    "- `cacheSize`는 정수이며, 범위는 0 ≦ `cacheSize` ≦ 30 이다.\n",
    "- `cities`는 도시 이름으로 이뤄진 문자열 배열로, 최대 도시 수는 100,000개이다.\n",
    "- 각 도시 이름은 공백, 숫자, 특수문자 등이 없는 영문자로 구성되며, 대소문자 구분을 하지 않는다. 도시 이름은 최대 20자로 이루어져 있다.\n",
    "\n",
    "### 🔑 출력 형식\n",
    "\n",
    "- 입력된 도시이름 배열을 순서대로 처리할 때, “총 실행시간”을 출력한다.\n",
    "\n",
    "### 조건\n",
    "\n",
    "- 캐시 교체 알고리즘은 `LRU`(Least Recently Used)를 사용한다.\n",
    "- `cache hit`일 경우 실행시간은 `1`이다.\n",
    "- `cache miss`일 경우 실행시간은 `5`이다.\n",
    "\n",
    "### 입출력 예제\n",
    "\n",
    "| 캐시크기(cacheSize) | 도시이름(cities)                                             | 실행시간 |\n",
    "| :------------------ | :----------------------------------------------------------- | :------- |\n",
    "| 3                   | [“Jeju”, “Pangyo”, “Seoul”, “NewYork”, “LA”, “Jeju”, “Pangyo”, “Seoul”, “NewYork”, “LA”] | 50       |\n",
    "| 3                   | [“Jeju”, “Pangyo”, “Seoul”, “Jeju”, “Pangyo”, “Seoul”, “Jeju”, “Pangyo”, “Seoul”] | 21       |\n",
    "| 2                   | [“Jeju”, “Pangyo”, “Seoul”, “NewYork”, “LA”, “SanFrancisco”, “Seoul”, “Rome”, “Paris”, “Jeju”, “NewYork”, “Rome”] | 60       |\n",
    "| 5                   | [“Jeju”, “Pangyo”, “Seoul”, “NewYork”, “LA”, “SanFrancisco”, “Seoul”, “Rome”, “Paris”, “Jeju”, “NewYork”, “Rome”] | 52       |\n",
    "| 2                   | [“Jeju”, “Pangyo”, “NewYork”, “newyork”]                     | 16       |\n",
    "| 0                   | [“Jeju”, “Pangyo”, “Seoul”, “NewYork”, “LA”]                 | 25       |\n"
   ]
  },
  {
   "cell_type": "markdown",
   "id": "66469130-dc18-40b3-82d1-af4b50703bd4",
   "metadata": {},
   "source": [
    "### 🔑 문제 해설\n",
    "\n",
    "여기서부터 문제가 좀 어려워졌던 거 같습니다. 정답률이 많이 낮은데요. 이 문제는 ‘조건’에도 나와있지만 LRU 캐시 교체 알고리즘을 구현하는 문제이고, 이미 잘 알고 있다면 또는 검색해봤다면 잘 구현된 LRU 알고리즘 코드는 많이 찾을 수 있습니다.\n",
    "\n",
    "단, 이 문제에는 입출력 예제에 캐시 사이즈 0이 포함되어 있습니다. 공개된 대부분의 LRU 구현 코드는 0일 때의 비정상적인 상황은 가정하지 않고 있기 때문에 생각 없이 그냥 가져와 붙인다면 에러가 나서 많이 고생했을 거 같네요. 하지만 사이즈 0을 처리하는 예외 처리 자체는 어렵지 않게 구현할 수 있으므로 입출력 예제가 왜 자꾸 틀리는지를 유심히 살펴봤다면 쉽게 풀 수 있는 문제입니다.\n",
    "\n",
    "아울러 검색해서 가져온 코드는 반드시 사용 가능한지 라이선스를 확인하고, 가져올 때는 꼭 출처를 명시해야 한다는 점 잊지 마세요.\n",
    "\n",
    "이 문제의 정답률은 45.26%입니다.\n",
    "\n",
    "[카카오 신입 공채 1차 코딩 테스트 문제 해설](https://tech.kakao.com/2017/09/27/kakao-blind-recruitment-round-1/)"
   ]
  },
  {
   "cell_type": "code",
   "execution_count": null,
   "id": "1bbb66f1-4c58-4d6d-8c05-c6f9b3b5a1d4",
   "metadata": {},
   "outputs": [],
   "source": []
  }
 ],
 "metadata": {
  "kernelspec": {
   "display_name": "imok",
   "language": "python",
   "name": "imok"
  },
  "language_info": {
   "codemirror_mode": {
    "name": "ipython",
    "version": 3
   },
   "file_extension": ".py",
   "mimetype": "text/x-python",
   "name": "python",
   "nbconvert_exporter": "python",
   "pygments_lexer": "ipython3",
   "version": "3.9.10"
  }
 },
 "nbformat": 4,
 "nbformat_minor": 5
}
