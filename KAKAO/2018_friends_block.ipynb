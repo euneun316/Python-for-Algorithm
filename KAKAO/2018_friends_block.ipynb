{
 "cells": [
  {
   "cell_type": "markdown",
   "id": "feb31ae6-7948-4176-b5c1-9a0d1a957546",
   "metadata": {},
   "source": [
    "# 2018 KAKAO BLIND RECRUITMENT\n",
    "## [1차] 프렌즈4블록"
   ]
  },
  {
   "cell_type": "markdown",
   "id": "7cd49a45-72bd-4761-a5bc-80482de63e45",
   "metadata": {
    "tags": []
   },
   "source": [
    "### 💡 문제 설명\n",
    "\n",
    "블라인드 공채를 통과한 신입 사원 라이언은 신규 게임 개발 업무를 맡게 되었다. 이번에 출시할 게임 제목은 “프렌즈4블록”.\n",
    "같은 모양의 카카오프렌즈 블록이 2×2 형태로 4개가 붙어있을 경우 사라지면서 점수를 얻는 게임이다.\n",
    "\n",
    "![img](http://t1.kakaocdn.net/welcome2018/pang1.png)\n",
    "\n",
    "만약 판이 위와 같이 주어질 경우, 라이언이 2×2로 배치된 7개 블록과 콘이 2×2로 배치된 4개 블록이 지워진다. 같은 블록은 여러 2×2에 포함될 수 있으며, 지워지는 조건에 만족하는 2×2 모양이 여러 개 있다면 한꺼번에 지워진다.\n",
    "\n",
    "![img](http://t1.kakaocdn.net/welcome2018/pang2.png)\n",
    "\n",
    "블록이 지워진 후에 위에 있는 블록이 아래로 떨어져 빈 공간을 채우게 된다.\n",
    "\n",
    "![img](http://t1.kakaocdn.net/welcome2018/pang3.png)\n",
    "\n",
    "만약 빈 공간을 채운 후에 다시 2×2 형태로 같은 모양의 블록이 모이면 다시 지워지고 떨어지고를 반복하게 된다.\n",
    "\n",
    "![img](http://t1.kakaocdn.net/welcome2018/pang4.png)\n",
    "\n",
    "위 초기 배치를 문자로 표시하면 아래와 같다.\n",
    "\n",
    "```\n",
    "TTTANT\n",
    "RRFACC\n",
    "RRRFCC\n",
    "TRRRAA\n",
    "TTMMMF\n",
    "TMMTTJ\n",
    "```\n",
    "\n",
    "각 문자는 라이언(R), 무지(M), 어피치(A), 프로도(F), 네오(N), 튜브(T), 제이지(J), 콘(C)을 의미한다\n",
    "\n",
    "입력으로 블록의 첫 배치가 주어졌을 때, 지워지는 블록은 모두 몇 개인지 판단하는 프로그램을 제작하라.\n",
    "\n",
    "### 💡 입력 형식\n",
    "\n",
    "- 입력으로 판의 높이 `m`, 폭 `n`과 판의 배치 정보 `board`가 들어온다.\n",
    "- 2 ≦ `n`, `m` ≦ 30\n",
    "- `board`는 길이 `n`인 문자열 `m`개의 배열로 주어진다. 블록을 나타내는 문자는 대문자 A에서 Z가 사용된다.\n",
    "\n",
    "### 🔑 출력 형식\n",
    "\n",
    "입력으로 주어진 판 정보를 가지고 몇 개의 블록이 지워질지 출력하라.\n",
    "\n",
    "### 입출력 예제\n",
    "\n",
    "| m    | n    | board                                                        | answer |\n",
    "| :--- | :--- | :----------------------------------------------------------- | :----- |\n",
    "| 4    | 5    | [“CCBDE”, “AAADE”, “AAABF”, “CCBBF”]                         | 14     |\n",
    "| 6    | 6    | [“TTTANT”, “RRFACC”, “RRRFCC”, “TRRRAA”, “TTMMMF”, “TMMTTJ”] | 15     |\n",
    "\n",
    "### 예제에 대한 설명\n",
    "\n",
    "- 입출력 예제 1의 경우, 첫 번째에는 A 블록 6개가 지워지고, 두 번째에는 B 블록 4개와 C 블록 4개가 지워져, 모두 14개의 블록이 지워진다.\n",
    "- 입출력 예제 2는 본문 설명에 있는 그림을 옮긴 것이다. 11개와 4개의 블록이 차례로 지워지며, 모두 15개의 블록이 지워진다.\n",
    "\n",
    "### 🔑 문제 해설\n",
    "\n",
    "게임 요구 사항을 구현해보는 문제입니다. 같은 모양의 카카오프렌즈 블록이 2×2 형태로 4개가 붙어있을 경우 사라지면서 점수를 얻는 게임인데요. 인접한 모든 블록이 사라지는 실제 게임들과 달리 계산을 쉽게 하기 위해 2×2로 제한하고, 사라진 블록 자리에는 새로운 블록이 채워지지 않습니다. 그럼에도 불구하고 인접한 블록을 모두 스캔해야 하는 문제라 짧지 않은 코드가 필요했을 것 같네요. 이번 시험에서 가장 긴 코드가 필요한 문제였습니다. 자바의 경우 무려 80라인이나 필요했네요. 블록 매트릭스를 생성하여 스캔하고 제거해 나가는 작업을 반복하면서 더 이상 제거되지 않을 때 사라진 블록 자리의 수를 계산하면 됩니다.\n",
    "\n",
    "이 문제의 정답률은 48.01%입니다.\n",
    "\n",
    "[카카오 신입 공채 1차 코딩 테스트 문제 해설](https://tech.kakao.com/2017/09/27/kakao-blind-recruitment-round-1/)"
   ]
  },
  {
   "cell_type": "code",
   "execution_count": null,
   "id": "bb0f5f7c-4d20-4ff4-9f44-f7429a8a2714",
   "metadata": {},
   "outputs": [],
   "source": []
  }
 ],
 "metadata": {
  "kernelspec": {
   "display_name": "imok",
   "language": "python",
   "name": "imok"
  },
  "language_info": {
   "codemirror_mode": {
    "name": "ipython",
    "version": 3
   },
   "file_extension": ".py",
   "mimetype": "text/x-python",
   "name": "python",
   "nbconvert_exporter": "python",
   "pygments_lexer": "ipython3",
   "version": "3.9.10"
  }
 },
 "nbformat": 4,
 "nbformat_minor": 5
}
