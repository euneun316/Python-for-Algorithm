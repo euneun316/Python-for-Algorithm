{
 "cells": [
  {
   "cell_type": "markdown",
   "id": "fc48b546-fd96-4860-99b5-9853d9719dd9",
   "metadata": {
    "tags": []
   },
   "source": [
    "\n",
    "## 2018 KAKAO BLIND RECRUITMENT\n",
    "## [1차] 다트 게임\n",
    "\n",
    "### 🔗 문제 링크\n",
    "\n",
    "- [프로그래머스 - 다트 게임](https://programmers.co.kr/learn/courses/30/lessons/17682?language=python3)"
   ]
  },
  {
   "cell_type": "markdown",
   "id": "a14f2e44-9699-4f10-9c86-73aba55e9d50",
   "metadata": {},
   "source": [
    "### 💡 문제 설명\n",
    "\n",
    "카카오톡 게임별의 하반기 신규 서비스로 다트 게임을 출시하기로 했다. 다트 게임은 다트판에 다트를 세 차례 던져 그 점수의 합계로 실력을 겨루는 게임으로, 모두가 간단히 즐길 수 있다. <br>\n",
    "갓 입사한 무지는 코딩 실력을 인정받아 게임의 핵심 부분인 점수 계산 로직을 맡게 되었다. 다트 게임의 점수 계산 로직은 아래와 같다.\n",
    "<br>\n",
    "1. 다트 게임은 총 3번의 기회로 구성된다.\n",
    "2. 각 기회마다 얻을 수 있는 점수는 0점에서 10점까지이다.\n",
    "3. 점수와 함께 Single(`S`), Double(`D`), Triple(`T`) 영역이 존재하고 각 영역 당첨 시 점수에서 1제곱, 2제곱, 3제곱 (점수^1 , 점수^2 , 점수^3 )으로 계산된다.\n",
    "4. 옵션으로 스타상(`*`) , 아차상(`#`)이 존재하며 스타상(`*`) 당첨 시 해당 점수와 바로 전에 얻은 점수를 각 2배로 만든다. 아차상(`#`) 당첨 시 해당 점수는 마이너스된다.\n",
    "5. 스타상(`*`)은 첫 번째 기회에서도 나올 수 있다. 이 경우 첫 번째 스타상(`*`)의 점수만 2배가 된다. (예제 4번 참고)\n",
    "6. 스타상(`*`)의 효과는 다른 스타상(`*`)의 효과와 중첩될 수 있다. 이 경우 중첩된 스타상(`*`) 점수는 4배가 된다. (예제 4번 참고)\n",
    "7. 스타상(`*`)의 효과는 아차상(`#`)의 효과와 중첩될 수 있다. 이 경우 중첩된 아차상(`#`)의 점수는 -2배가 된다. (예제 5번 참고)\n",
    "8. Single(`S`), Double(`D`), Triple(`T`)은 점수마다 하나씩 존재한다.\n",
    "9. 스타상(`*`), 아차상(`#`)은 점수마다 둘 중 하나만 존재할 수 있으며, 존재하지 않을 수도 있다.\n",
    "<br>\n",
    "\n",
    "0~10의 정수와 문자 `S, D, T, *, #` 로 구성된 문자열이 입력될 시 총점수를 반환하는 함수를 작성하라.\n",
    "\n",
    "### 💡 입력 형식\n",
    "\n",
    "`“점수|보너스|[옵션]”` 으로 이루어진 문자열 3세트. <br>\n",
    "예) 1S2D*3T\n",
    "\n",
    "- 점수는 0에서 10 사이의 정수이다.\n",
    "- 보너스는 S, D, T 중 하나이다.\n",
    "- 옵선은 *이나 # 중 하나이며, 없을 수도 있다.\n",
    "\n",
    "### 🔑 출력 형식\n",
    "3번의 기회에서 얻은 점수 합계에 해당하는 정수값을 출력한다. <br>\n",
    "예) 37\n",
    "\n",
    "### 입출력 예제\n",
    "\n",
    "|예제|dartResult|answer|설명|\n",
    "|:--:|:--:|:--:|:--|\n",
    "|1|1S2D\\*3T|37|1^1 * 2 + 2^2 * 2 + 3^3\n",
    "|2|1D2S#10S|9|1^2 + 2^1 * (-1) + 10^1\n",
    "|3|1D2S0T|3|1^2 + 2^1 + 0^3\n",
    "|4|1S\\*2T\\*3S|23|1^1 * 2 * 2 + 2^3 * 2 + 3^1\n",
    "|5|1D#2S\\*3S|5|1^2 * (-1) * 2 + 2^1 * 2 + 3^1\n",
    "|6|1T2D3D#|-4|1^3 + 2^2 + 3^2 * (-1)\n",
    "|7|1D2S3T\\*|59|1^2 + 2^1 * 2 + 3^3 * 2\n"
   ]
  },
  {
   "cell_type": "markdown",
   "id": "12f4fad4-7fc4-473f-a865-cb50483725e9",
   "metadata": {},
   "source": [
    "### 🔑 문제 해설\n",
    "문자열 처리String Manipulation를 묻는 문제입니다. 앞에서부터 한 글자씩 잘라서 처리할 수 있고, <br>\n",
    "또는 간단한 컴파일러를 만들듯이 토큰화Tokenizing와 의미 분석Semantic Analysis을 통해 어렵지 않게 계산할 수 있습니다.<br>\n",
    "점수 중에는 한 자리뿐만 아니라 두 자리인 10점도 포함되어 있기 때문에 한 글자씩 잘라서 처리할때는 그 부분에 유의해야겠네요. <br>\n",
    "토큰화로 처리할 때는 정규식을 사용하면 비교적 쉽게 잘라낼 수 있습니다. S, D, T는 각각 원점수, 제곱, 세제곱으로 처리하고 스타상은 두 배로 계산하면 됩니다. <br>\n",
    "참, 아차상은 마이너스 점수라는 점에 유의하세요.<br>\n",
    "이 문제의 정답률은 73.47%입니다. 앞서 비밀지도 보다는 낮지만 그래도 많은 분들이 잘 풀어주셨습니다.\n",
    "\n",
    "[카카오 신입 공채 1차 코딩 테스트 문제 해설](https://tech.kakao.com/2017/09/27/kakao-blind-recruitment-round-1/)"
   ]
  },
  {
   "cell_type": "code",
   "execution_count": 1,
   "id": "6a78ccc7-fea7-45a8-b0f9-56e5235dc29c",
   "metadata": {},
   "outputs": [],
   "source": [
    "def solution(dartResult):\n",
    "    n = ''\n",
    "    # 점수 리스트로 담기\n",
    "    score = []\n",
    "    for i in dartResult:\n",
    "        # 10일 경우 해결 위함\n",
    "        if i.isnumeric():\n",
    "            n += i\n",
    "        # 기본 점수 계산\n",
    "        elif i == 'S' :\n",
    "            n = int(n) ** 1\n",
    "            score.append(n)\n",
    "            n =''\n",
    "        elif i == 'D' :\n",
    "            n = int(n) ** 2\n",
    "            score.append(n)\n",
    "            n =''\n",
    "        elif i == 'T' :\n",
    "            n = int(n) ** 3\n",
    "            score.append(n)\n",
    "            n =''\n",
    "        # 스타상\n",
    "        elif i == '*':\n",
    "            # 해당 점수와 바로 전에 얻은 점수를 각 2배\n",
    "            if len(score) > 1:\n",
    "                score[-2] = score[-2] * 2\n",
    "                score[-1] = score[-1] * 2\n",
    "            # 첫 번째 기회에서도 나올 수 있다. 이 경우 첫 번째 스타상(*)의 점수만 2배\n",
    "            else:\n",
    "                score[-1] = score[-1] * 2\n",
    "        # 아차상\n",
    "        elif i == '#':\n",
    "            # 해당 점수는 마이너스\n",
    "            # 스타상(*)의 효과는 아차상(#)의 효과와 중첩될 수 있다. 이 경우 중첩된 아차상(#)의 점수는 -2배가 된다. \n",
    "            score[-1] = score[-1] * -1\n",
    "        print(score)\n",
    "\n",
    "    return sum(score)"
   ]
  },
  {
   "cell_type": "code",
   "execution_count": 2,
   "id": "79db6053-5ec2-45b6-b037-0d093ce332c3",
   "metadata": {},
   "outputs": [
    {
     "name": "stdout",
     "output_type": "stream",
     "text": [
      "[]\n",
      "[1]\n",
      "[2]\n",
      "[2]\n",
      "[2, 8]\n",
      "[4, 16]\n",
      "[4, 16]\n",
      "[4, 16, 3]\n",
      "23\n"
     ]
    }
   ],
   "source": [
    "print(solution('1S*2T*3S'))"
   ]
  },
  {
   "cell_type": "markdown",
   "id": "8fad3aca-1e48-467a-be61-07731bf637fd",
   "metadata": {},
   "source": [
    "1. [] : 첫번 째 숫자\n",
    "2. [1] : S 계산\n",
    "3. [2] : * 계산, x2\n",
    "4. [2] : 두번 째 숫자\n",
    "5. [2, 8] : T 계산\n",
    "6. [4, 16] : * 계산 , x2\n",
    "7. [4, 16] : 세번 째 숫자\n",
    "8. [4, 16, 3] : S 계산"
   ]
  },
  {
   "cell_type": "code",
   "execution_count": 3,
   "id": "3ddce80e-4f83-4ce3-89bd-2e6d11400a5f",
   "metadata": {},
   "outputs": [
    {
     "name": "stdout",
     "output_type": "stream",
     "text": [
      "[]\n",
      "[1]\n",
      "[-1]\n",
      "[-1]\n",
      "[-1, 2]\n",
      "[-2, 4]\n",
      "[-2, 4]\n",
      "[-2, 4, 3]\n",
      "5\n"
     ]
    }
   ],
   "source": [
    "print(solution('1D#2S*3S'))"
   ]
  },
  {
   "cell_type": "markdown",
   "id": "999b419d-086c-41d4-a3b6-3f678f0953bf",
   "metadata": {},
   "source": [
    "1. [] : 첫번 째 숫자\n",
    "2. [1] : D 계산\n",
    "3. [-1] : # 계산\n",
    "4. [-1] : 두번 째 숫자\n",
    "5. [-1, 2] : S 계산\n",
    "6. [-2, 4] : * 계산\n",
    "7. [-2, 4] : 세번 째 숫자\n",
    "8. [-2, 4, 3] : S 계산"
   ]
  },
  {
   "cell_type": "markdown",
   "id": "75ab1f03-bc34-42e0-9617-94c0d8efce91",
   "metadata": {},
   "source": [
    "### 📝 다른사람 코드 분석"
   ]
  },
  {
   "cell_type": "code",
   "execution_count": 4,
   "id": "a6abd005-06c9-47cc-acab-e02d0ef2ed0a",
   "metadata": {},
   "outputs": [],
   "source": [
    "import re\n",
    "\n",
    "def solution(dartResult):\n",
    "    bonus = {'S' : 1, 'D' : 2, 'T' : 3}\n",
    "    option = {'' : 1, '*' : 2, '#' : -1}\n",
    "    \n",
    "    p = re.compile('(\\d+)([SDT])([*#]?)')\n",
    "    dart = p.findall(dartResult)\n",
    "    print(dart)\n",
    "    for i in range(len(dart)):\n",
    "        # 스타상\n",
    "        if dart[i][2] == '*' and i > 0:\n",
    "            # 직전 점수 2배 \n",
    "            dart[i-1] *= 2\n",
    "        # 점수 계산\n",
    "        dart[i] = int(dart[i][0]) ** bonus[dart[i][1]] * option[dart[i][2]]\n",
    "        print(i,dart[i],sep=' : ')\n",
    "    return sum(dart)"
   ]
  },
  {
   "cell_type": "code",
   "execution_count": 5,
   "id": "014618bb-4b1b-4de1-b8fd-8642cd2099cc",
   "metadata": {},
   "outputs": [
    {
     "name": "stdout",
     "output_type": "stream",
     "text": [
      "[('1', 'D', ''), ('2', 'S', '#'), ('10', 'S', '')]\n",
      "0 : 1\n",
      "1 : -2\n",
      "2 : 10\n",
      "9\n"
     ]
    }
   ],
   "source": [
    "print(solution('1D2S#10S'))"
   ]
  },
  {
   "cell_type": "code",
   "execution_count": 6,
   "id": "c7acebc5-2e3c-4df4-9720-24d0fbf26388",
   "metadata": {},
   "outputs": [
    {
     "name": "stdout",
     "output_type": "stream",
     "text": [
      "('1', 'S', '*')\n"
     ]
    }
   ],
   "source": [
    "p = re.compile('(\\d+)([SDT])([*#]?)')\n",
    "dart = p.findall('1S*2T*3S')\n",
    "print(dart[0])"
   ]
  },
  {
   "cell_type": "code",
   "execution_count": null,
   "id": "816e41ea-6545-482f-abb2-d32140ddda3a",
   "metadata": {},
   "outputs": [],
   "source": []
  }
 ],
 "metadata": {
  "kernelspec": {
   "display_name": "imok",
   "language": "python",
   "name": "imok"
  },
  "language_info": {
   "codemirror_mode": {
    "name": "ipython",
    "version": 3
   },
   "file_extension": ".py",
   "mimetype": "text/x-python",
   "name": "python",
   "nbconvert_exporter": "python",
   "pygments_lexer": "ipython3",
   "version": "3.9.10"
  }
 },
 "nbformat": 4,
 "nbformat_minor": 5
}
