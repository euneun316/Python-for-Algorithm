{
 "cells": [
  {
   "cell_type": "markdown",
   "id": "10682d75-8d5d-4e99-8087-c2d8178675bf",
   "metadata": {},
   "source": [
    "# 진법 변환\n",
    "---\n",
    "\n",
    "## 💡 문제 설명\n",
    "\n",
    ">B진법 수 N이 주어진다. 이 수를 10진법으로 바꿔 출력하는 프로그램을 작성하시오. <br>\n",
    ">10진법을 넘어가는 진법은 숫자로 표시할 수 없는 자리가 있다. 이런 경우에는 다음과 같이 알파벳 대문자를 사용한다. <br>\n",
    ">A: 10, B: 11, ..., F: 15, ..., Y: 34, Z: 35\n",
    "\n",
    "## 💡 입력\n",
    "\n",
    "> 첫째 줄에 N과 B가 주어진다. (2 ≤ B ≤ 36) <br>\n",
    "> B진법 수 N을 10진법으로 바꾸면, 항상 10억보다 작거나 같다.\n",
    "\n",
    "## 🔑 출력\n",
    "\n",
    "> 첫째 줄에 B진법 수 N을 10진법으로 출력한다.\n",
    "\n",
    "### 예제 입력 #1\n",
    "```\n",
    "ZZZZZ 36\n",
    "```\n",
    "### 예제 출력 #1\n",
    "```\n",
    "60466175\n",
    "```\n",
    "\n",
    "## 🔗 문제 링크\n",
    "\n",
    "- [백준 - 진법 변환](https://www.acmicpc.net/problem/2745)"
   ]
  },
  {
   "cell_type": "markdown",
   "id": "0d96e060-49a1-4963-96c6-f93d2f888246",
   "metadata": {},
   "source": [
    "- int(변환할string, n진법) :  n진법은 int형"
   ]
  },
  {
   "cell_type": "code",
   "execution_count": 3,
   "id": "e133e2b4-341b-4c84-8530-1462bedae541",
   "metadata": {},
   "outputs": [
    {
     "name": "stdin",
     "output_type": "stream",
     "text": [
      " ZZZZZ 36\n"
     ]
    },
    {
     "name": "stdout",
     "output_type": "stream",
     "text": [
      "60466175\n"
     ]
    }
   ],
   "source": [
    "a, b = input().strip().split()\n",
    "print(int(a, int(b)))"
   ]
  },
  {
   "cell_type": "markdown",
   "id": "84b56a3f-962c-4e6a-8a69-2d2d11a947a2",
   "metadata": {},
   "source": [
    "### 📝 다른사람 코드 분석"
   ]
  },
  {
   "cell_type": "code",
   "execution_count": 1,
   "id": "392f673c-d3f5-441a-9492-5d3a54007a11",
   "metadata": {},
   "outputs": [
    {
     "name": "stdin",
     "output_type": "stream",
     "text": [
      " ZZZZZ 36\n"
     ]
    },
    {
     "name": "stdout",
     "output_type": "stream",
     "text": [
      "60466175\n"
     ]
    }
   ],
   "source": [
    "# 36진법 집합을 위한 라이브러리\n",
    "from string import digits, ascii_uppercase\n",
    "\n",
    "# 36진법 string ([0-9A-Z])\n",
    "base_map = digits + ascii_uppercase\n",
    "\n",
    "# 입력 값\n",
    "B, N = input().split()\n",
    "\n",
    "# 역순된 B 값을 base_map에 매핑하여 N진법 계산된 배열\n",
    "answer = [base_map.index(v) * int(N)**(i) \n",
    "          for i, v in enumerate(B[::-1])]\n",
    "\n",
    "# 출력 값\n",
    "print(sum(answer))"
   ]
  }
 ],
 "metadata": {
  "kernelspec": {
   "display_name": "imok",
   "language": "python",
   "name": "imok"
  },
  "language_info": {
   "codemirror_mode": {
    "name": "ipython",
    "version": 3
   },
   "file_extension": ".py",
   "mimetype": "text/x-python",
   "name": "python",
   "nbconvert_exporter": "python",
   "pygments_lexer": "ipython3",
   "version": "3.9.10"
  }
 },
 "nbformat": 4,
 "nbformat_minor": 5
}
